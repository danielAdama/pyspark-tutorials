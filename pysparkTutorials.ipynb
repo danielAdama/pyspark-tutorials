{
 "cells": [
  {
   "cell_type": "code",
   "execution_count": 1,
   "id": "c5c839f8",
   "metadata": {},
   "outputs": [],
   "source": [
    "from pyspark.sql import SparkSession\n",
    "import pyspark.sql.functions as F\n",
    "from pyspark.sql.types import IntegerType, StringType, DateType, FloatType"
   ]
  },
  {
   "cell_type": "code",
   "execution_count": 2,
   "id": "58cf3056",
   "metadata": {},
   "outputs": [
    {
     "name": "stderr",
     "output_type": "stream",
     "text": [
      "22/05/14 17:20:02 WARN Utils: Your hostname, daniel-X555LJ resolves to a loopback address: 127.0.1.1; using 192.168.0.182 instead (on interface wlp3s0f0)\n",
      "22/05/14 17:20:02 WARN Utils: Set SPARK_LOCAL_IP if you need to bind to another address\n",
      "WARNING: An illegal reflective access operation has occurred\n",
      "WARNING: Illegal reflective access by org.apache.spark.unsafe.Platform (file:/usr/local/lib/python3.8/dist-packages/pyspark/jars/spark-unsafe_2.12-3.2.1.jar) to constructor java.nio.DirectByteBuffer(long,int)\n",
      "WARNING: Please consider reporting this to the maintainers of org.apache.spark.unsafe.Platform\n",
      "WARNING: Use --illegal-access=warn to enable warnings of further illegal reflective access operations\n",
      "WARNING: All illegal access operations will be denied in a future release\n",
      "Using Spark's default log4j profile: org/apache/spark/log4j-defaults.properties\n",
      "Setting default log level to \"WARN\".\n",
      "To adjust logging level use sc.setLogLevel(newLevel). For SparkR, use setLogLevel(newLevel).\n",
      "22/05/14 17:20:03 WARN NativeCodeLoader: Unable to load native-hadoop library for your platform... using builtin-java classes where applicable\n",
      "                                                                                \r"
     ]
    }
   ],
   "source": [
    "DATAPATH = r'/home/daniel/Desktop/programming/pythondatascience/datascience/dataengineering/datasets/Dallas_City_Council_Voting_Record.csv'\n",
    "# Dataframe with inferSchema\n",
    "spark = SparkSession.builder.appName('data_preprocessing').getOrCreate()\n",
    "voter_df = spark.read.csv(DATAPATH, inferSchema = True, header = True)"
   ]
  },
  {
   "cell_type": "code",
   "execution_count": 3,
   "id": "5ee5e6dd",
   "metadata": {},
   "outputs": [],
   "source": [
    "voter_df = voter_df.withColumnRenamed(\"VOTER NAME\", \"VOTER_NAME\")\n",
    "voter_df = voter_df.withColumnRenamed(\"VOTE CAST\", \"VOTE_CAST\")\n",
    "voter_df = voter_df.withColumnRenamed(\"FINAL ACTION TAKEN\", \"FINAL_ACTION_TAKEN\")\n",
    "voter_df = voter_df.withColumnRenamed(\"AGENDA ITEM DESCRIPTION\", \"AGENDA_ITEM_DESCRIPTION\")"
   ]
  },
  {
   "cell_type": "code",
   "execution_count": 4,
   "id": "40930960",
   "metadata": {},
   "outputs": [
    {
     "data": {
      "text/plain": [
       "[('DATE', 'string'),\n",
       " ('AGENDA_ITEM_NUMBER', 'string'),\n",
       " ('ITEM_TYPE', 'string'),\n",
       " ('DISTRICT', 'string'),\n",
       " ('TITLE', 'string'),\n",
       " ('VOTER_NAME', 'string'),\n",
       " ('VOTE_CAST', 'string'),\n",
       " ('FINAL_ACTION_TAKEN', 'string'),\n",
       " ('AGENDA_ITEM_DESCRIPTION', 'string'),\n",
       " ('AGENDA_ID', 'string'),\n",
       " ('VOTE_ID', 'string')]"
      ]
     },
     "execution_count": 4,
     "metadata": {},
     "output_type": "execute_result"
    }
   ],
   "source": [
    "voter_df.dtypes"
   ]
  },
  {
   "cell_type": "code",
   "execution_count": 5,
   "id": "6b8a549a",
   "metadata": {},
   "outputs": [
    {
     "name": "stdout",
     "output_type": "stream",
     "text": [
      "11 Columns is present in the dataset.\n"
     ]
    }
   ],
   "source": [
    "print(f\"{len(voter_df.columns)} Columns is present in the dataset.\")"
   ]
  },
  {
   "cell_type": "code",
   "execution_count": 6,
   "id": "71d96136",
   "metadata": {},
   "outputs": [
    {
     "name": "stdout",
     "output_type": "stream",
     "text": [
      "115005,11\n"
     ]
    }
   ],
   "source": [
    "df_shape = f\"{voter_df.count()},{len(voter_df.columns)}\"\n",
    "print(df_shape)"
   ]
  },
  {
   "cell_type": "markdown",
   "id": "1828657d",
   "metadata": {},
   "source": [
    "# Subset Columns and View a Glimpse of the Data"
   ]
  },
  {
   "cell_type": "code",
   "execution_count": 7,
   "id": "5bf409ea",
   "metadata": {},
   "outputs": [
    {
     "name": "stdout",
     "output_type": "stream",
     "text": [
      "+----------+--------------------+-------------------+---------+\n",
      "|      DATE|               TITLE|         VOTER_NAME|VOTE_CAST|\n",
      "+----------+--------------------+-------------------+---------+\n",
      "|09/16/2020|       Councilmember|          Chad West|      YES|\n",
      "|09/16/2020|Deputy Mayor Pro Tem|    B. Adam McGough|      YES|\n",
      "|06/24/2020|       Councilmember|Carolyn King Arnold|      YES|\n",
      "|06/24/2020|       Councilmember|     Jaime Resendez|      YES|\n",
      "|06/24/2020|       Councilmember|       Omar Narvaez|      YES|\n",
      "|06/24/2020|       Councilmember|      Adam Bazaldua|      YES|\n",
      "|06/24/2020|       Councilmember|     Tennell Atkins|      YES|\n",
      "|06/24/2020|       Councilmember|     Paula Blackmon|      YES|\n",
      "|06/24/2020|       Councilmember|          Chad West|      YES|\n",
      "|06/24/2020|Deputy Mayor Pro Tem|    B. Adam McGough|      YES|\n",
      "|06/24/2020|       Councilmember|    Lee M. Kleinman|      YES|\n",
      "|01/11/2017|       Councilmember|  Jennifer S. Gates|      YES|\n",
      "|04/25/2018|       Councilmember|     Sandy  Greyson|      YES|\n",
      "|04/25/2018|       Councilmember| Jennifer S.  Gates|      YES|\n",
      "|04/25/2018|       Councilmember|Philip T.  Kingston|      YES|\n",
      "|04/25/2018|               Mayor|Michael S. Rawlings|      YES|\n",
      "|06/24/2020|       Councilmember|    Cara Mendelsohn|      YES|\n",
      "|06/24/2020|       Councilmember| Jennifer S.  Gates|      YES|\n",
      "|06/24/2020|       Councilmember|      David Blewett|      YES|\n",
      "|04/25/2018|Deputy Mayor Pro Tem|       Adam Medrano|      YES|\n",
      "+----------+--------------------+-------------------+---------+\n",
      "only showing top 20 rows\n",
      "\n"
     ]
    }
   ],
   "source": [
    "select_cols = ['DATE', 'TITLE', 'VOTER_NAME', 'VOTE_CAST']\n",
    "\n",
    "# Subsetting the required column from the dataframe\n",
    "subset = voter_df.select(*select_cols)\n",
    "subset.show()"
   ]
  },
  {
   "cell_type": "code",
   "execution_count": 8,
   "id": "1acdea57",
   "metadata": {},
   "outputs": [
    {
     "name": "stdout",
     "output_type": "stream",
     "text": [
      "-RECORD 0-----------------------------------------------------------------------------------------------------------------------------------------------------------------------------------------------------------------------------------------------------------------------------------------------------------------------------------------------------------------------------------------------------------------\n",
      " DATE                    | 09/16/2020                                                                                                                                                                                                                                                                                                                                                                                     \n",
      " AGENDA_ITEM_NUMBER      | 1                                                                                                                                                                                                                                                                                                                                                                                              \n",
      " ITEM_TYPE               | AGENDA                                                                                                                                                                                                                                                                                                                                                                                         \n",
      " DISTRICT                | 1                                                                                                                                                                                                                                                                                                                                                                                              \n",
      " TITLE                   | Councilmember                                                                                                                                                                                                                                                                                                                                                                                  \n",
      " VOTER_NAME              | Chad West                                                                                                                                                                                                                                                                                                                                                                                      \n",
      " VOTE_CAST               | YES                                                                                                                                                                                                                                                                                                                                                                                            \n",
      " FINAL_ACTION_TAKEN      | APPROVED                                                                                                                                                                                                                                                                                                                                                                                       \n",
      " AGENDA_ITEM_DESCRIPTION | Approval of Minutes of the September 2, 2020 City Council Meeting                                                                                                                                                                                                                                                                                                                              \n",
      " AGENDA_ID               | 091620_AG_1                                                                                                                                                                                                                                                                                                                                                                                    \n",
      " VOTE_ID                 | 091620_AG_1_1                                                                                                                                                                                                                                                                                                                                                                                  \n",
      "-RECORD 1-----------------------------------------------------------------------------------------------------------------------------------------------------------------------------------------------------------------------------------------------------------------------------------------------------------------------------------------------------------------------------------------------------------------\n",
      " DATE                    | 09/16/2020                                                                                                                                                                                                                                                                                                                                                                                     \n",
      " AGENDA_ITEM_NUMBER      | 1                                                                                                                                                                                                                                                                                                                                                                                              \n",
      " ITEM_TYPE               | AGENDA                                                                                                                                                                                                                                                                                                                                                                                         \n",
      " DISTRICT                | 10                                                                                                                                                                                                                                                                                                                                                                                             \n",
      " TITLE                   | Deputy Mayor Pro Tem                                                                                                                                                                                                                                                                                                                                                                           \n",
      " VOTER_NAME              | B. Adam McGough                                                                                                                                                                                                                                                                                                                                                                                \n",
      " VOTE_CAST               | YES                                                                                                                                                                                                                                                                                                                                                                                            \n",
      " FINAL_ACTION_TAKEN      | APPROVED                                                                                                                                                                                                                                                                                                                                                                                       \n",
      " AGENDA_ITEM_DESCRIPTION | Approval of Minutes of the September 2, 2020 City Council Meeting                                                                                                                                                                                                                                                                                                                              \n",
      " AGENDA_ID               | 091620_AG_1                                                                                                                                                                                                                                                                                                                                                                                    \n",
      " VOTE_ID                 | 091620_AG_1_10                                                                                                                                                                                                                                                                                                                                                                                 \n",
      "-RECORD 2-----------------------------------------------------------------------------------------------------------------------------------------------------------------------------------------------------------------------------------------------------------------------------------------------------------------------------------------------------------------------------------------------------------------\n",
      " DATE                    | 06/24/2020                                                                                                                                                                                                                                                                                                                                                                                     \n",
      " AGENDA_ITEM_NUMBER      | Z16                                                                                                                                                                                                                                                                                                                                                                                            \n",
      " ITEM_TYPE               | AGENDA                                                                                                                                                                                                                                                                                                                                                                                         \n",
      " DISTRICT                | 4                                                                                                                                                                                                                                                                                                                                                                                              \n",
      " TITLE                   | Councilmember                                                                                                                                                                                                                                                                                                                                                                                  \n",
      " VOTER_NAME              | Carolyn King Arnold                                                                                                                                                                                                                                                                                                                                                                            \n",
      " VOTE_CAST               | YES                                                                                                                                                                                                                                                                                                                                                                                            \n",
      " FINAL_ACTION_TAKEN      | AMENDED                                                                                                                                                                                                                                                                                                                                                                                        \n",
      " AGENDA_ITEM_DESCRIPTION | A public hearing to receive comments regarding an application for and an ordinance granting a Planned Development Subdistrict for mixed uses on property zoned an HC Heavy Commercial Subdistrict within Planned Development District No. 193, the Oak Lawn Special Purpose District, on the northwest line of Woodall Rodgers Freeway, between North St. Paul Street and North Harwood Street \n",
      " AGENDA_ID               | 062420_AG_Z16                                                                                                                                                                                                                                                                                                                                                                                  \n",
      " VOTE_ID                 | 062420_AG_Z16_4                                                                                                                                                                                                                                                                                                                                                                                \n",
      "-RECORD 3-----------------------------------------------------------------------------------------------------------------------------------------------------------------------------------------------------------------------------------------------------------------------------------------------------------------------------------------------------------------------------------------------------------------\n",
      " DATE                    | 06/24/2020                                                                                                                                                                                                                                                                                                                                                                                     \n",
      " AGENDA_ITEM_NUMBER      | Z16                                                                                                                                                                                                                                                                                                                                                                                            \n",
      " ITEM_TYPE               | AGENDA                                                                                                                                                                                                                                                                                                                                                                                         \n",
      " DISTRICT                | 5                                                                                                                                                                                                                                                                                                                                                                                              \n",
      " TITLE                   | Councilmember                                                                                                                                                                                                                                                                                                                                                                                  \n",
      " VOTER_NAME              | Jaime Resendez                                                                                                                                                                                                                                                                                                                                                                                 \n",
      " VOTE_CAST               | YES                                                                                                                                                                                                                                                                                                                                                                                            \n",
      " FINAL_ACTION_TAKEN      | AMENDED                                                                                                                                                                                                                                                                                                                                                                                        \n",
      " AGENDA_ITEM_DESCRIPTION | A public hearing to receive comments regarding an application for and an ordinance granting a Planned Development Subdistrict for mixed uses on property zoned an HC Heavy Commercial Subdistrict within Planned Development District No. 193, the Oak Lawn Special Purpose District, on the northwest line of Woodall Rodgers Freeway, between North St. Paul Street and North Harwood Street \n",
      " AGENDA_ID               | 062420_AG_Z16                                                                                                                                                                                                                                                                                                                                                                                  \n",
      " VOTE_ID                 | 062420_AG_Z16_5                                                                                                                                                                                                                                                                                                                                                                                \n",
      "only showing top 4 rows\n",
      "\n"
     ]
    }
   ],
   "source": [
    "voter_df.show(vertical=True, truncate=False, n=4)"
   ]
  },
  {
   "cell_type": "markdown",
   "id": "5814a598",
   "metadata": {},
   "source": [
    "# Check for Missing Value"
   ]
  },
  {
   "cell_type": "code",
   "execution_count": 9,
   "id": "4dbe08b8",
   "metadata": {},
   "outputs": [
    {
     "name": "stderr",
     "output_type": "stream",
     "text": [
      "                                                                                \r"
     ]
    },
    {
     "data": {
      "text/plain": [
       "1380"
      ]
     },
     "execution_count": 9,
     "metadata": {},
     "output_type": "execute_result"
    }
   ],
   "source": [
    "# Search for null values in the TITLE column\n",
    "voter_df.filter(voter_df.TITLE.isNull()).count()"
   ]
  },
  {
   "cell_type": "code",
   "execution_count": 10,
   "id": "175b8fa7",
   "metadata": {},
   "outputs": [
    {
     "data": {
      "text/plain": [
       "0"
      ]
     },
     "execution_count": 10,
     "metadata": {},
     "output_type": "execute_result"
    }
   ],
   "source": [
    "# Search for empty entries in the TITLE column\n",
    "voter_df.filter(voter_df.TITLE == '').count()"
   ]
  },
  {
   "cell_type": "code",
   "execution_count": 11,
   "id": "eec45572",
   "metadata": {},
   "outputs": [
    {
     "name": "stderr",
     "output_type": "stream",
     "text": [
      "                                                                                \r"
     ]
    },
    {
     "data": {
      "text/plain": [
       "0"
      ]
     },
     "execution_count": 11,
     "metadata": {},
     "output_type": "execute_result"
    }
   ],
   "source": [
    "# Search for NaN (not a number) values in the TITLE column\n",
    "voter_df.filter(F.isnan(voter_df.TITLE)).count()"
   ]
  },
  {
   "cell_type": "code",
   "execution_count": 12,
   "id": "97afd2e6",
   "metadata": {},
   "outputs": [
    {
     "name": "stderr",
     "output_type": "stream",
     "text": [
      "\r",
      "[Stage 16:==============>                                           (1 + 3) / 4]\r",
      "\r",
      "                                                                                \r"
     ]
    },
    {
     "data": {
      "text/plain": [
       "1380"
      ]
     },
     "execution_count": 12,
     "metadata": {},
     "output_type": "execute_result"
    }
   ],
   "source": [
    "# Check for missing values in the Title column\n",
    "voter_df.filter((voter_df.TITLE.isNull()) | (voter_df.TITLE == '') | (F.isnan(voter_df.TITLE))).count()"
   ]
  },
  {
   "cell_type": "markdown",
   "id": "312c9846",
   "metadata": {},
   "source": [
    "### Calculate all the missing values in the DataFrame"
   ]
  },
  {
   "cell_type": "code",
   "execution_count": 13,
   "id": "6bc6b107",
   "metadata": {},
   "outputs": [
    {
     "name": "stderr",
     "output_type": "stream",
     "text": [
      "[Stage 19:===========================================>              (3 + 1) / 4]\r"
     ]
    },
    {
     "name": "stdout",
     "output_type": "stream",
     "text": [
      "-RECORD 0-----------------------\n",
      " DATE                    | 0    \n",
      " AGENDA_ITEM_NUMBER      | 75   \n",
      " ITEM_TYPE               | 300  \n",
      " DISTRICT                | 1170 \n",
      " TITLE                   | 1380 \n",
      " VOTER_NAME              | 1885 \n",
      " VOTE_CAST               | 1500 \n",
      " FINAL_ACTION_TAKEN      | 1560 \n",
      " AGENDA_ITEM_DESCRIPTION | 1590 \n",
      " AGENDA_ID               | 2850 \n",
      " VOTE_ID                 | 2850 \n",
      "\n"
     ]
    },
    {
     "name": "stderr",
     "output_type": "stream",
     "text": [
      "\r",
      "                                                                                \r"
     ]
    }
   ],
   "source": [
    "voter_df.select([F.count(F.when((F.col(c)=='') | (F.col(c).isNull()) | (F.isnan(c)), c)).alias(c) for c in voter_df.columns]).show(vertical=True)"
   ]
  },
  {
   "cell_type": "markdown",
   "id": "2671e70d",
   "metadata": {},
   "source": [
    "We have missing values in every column except DATE"
   ]
  },
  {
   "cell_type": "code",
   "execution_count": 14,
   "id": "c6283793",
   "metadata": {},
   "outputs": [
    {
     "name": "stdout",
     "output_type": "stream",
     "text": [
      "-RECORD 0---------------------------------------\n",
      " DATE                    | [ATALIA ANNA GARC... \n",
      " AGENDA_ITEM_NUMBER      | 091620_AG_2          \n",
      " ITEM_TYPE               | 091620_AG_2_1        \n",
      " DISTRICT                | null                 \n",
      " TITLE                   | null                 \n",
      " VOTER_NAME              | null                 \n",
      " VOTE_CAST               | null                 \n",
      " FINAL_ACTION_TAKEN      | null                 \n",
      " AGENDA_ITEM_DESCRIPTION | null                 \n",
      " AGENDA_ID               | null                 \n",
      " VOTE_ID                 | null                 \n",
      "-RECORD 1---------------------------------------\n",
      " DATE                    | [ATALIA ANNA GARC... \n",
      " AGENDA_ITEM_NUMBER      | 091620_AG_2          \n",
      " ITEM_TYPE               | 091620_AG_2_10       \n",
      " DISTRICT                | null                 \n",
      " TITLE                   | null                 \n",
      " VOTER_NAME              | null                 \n",
      " VOTE_CAST               | null                 \n",
      " FINAL_ACTION_TAKEN      | null                 \n",
      " AGENDA_ITEM_DESCRIPTION | null                 \n",
      " AGENDA_ID               | null                 \n",
      " VOTE_ID                 | null                 \n",
      "-RECORD 2---------------------------------------\n",
      " DATE                    | [ATALIA ANNA GARC... \n",
      " AGENDA_ITEM_NUMBER      | 091620_AG_2          \n",
      " ITEM_TYPE               | 091620_AG_2_11       \n",
      " DISTRICT                | null                 \n",
      " TITLE                   | null                 \n",
      " VOTER_NAME              | null                 \n",
      " VOTE_CAST               | null                 \n",
      " FINAL_ACTION_TAKEN      | null                 \n",
      " AGENDA_ITEM_DESCRIPTION | null                 \n",
      " AGENDA_ID               | null                 \n",
      " VOTE_ID                 | null                 \n",
      "only showing top 3 rows\n",
      "\n"
     ]
    }
   ],
   "source": [
    "# Check for missing values in the title column\n",
    "voter_df.filter(voter_df.TITLE.isNull()).show(vertical=True, n = 3)"
   ]
  },
  {
   "cell_type": "code",
   "execution_count": 15,
   "id": "a3db42ba",
   "metadata": {},
   "outputs": [
    {
     "name": "stdout",
     "output_type": "stream",
     "text": [
      "-RECORD 0---------------------------------------\n",
      " DATE                    | 09/16/2020           \n",
      " AGENDA_ITEM_NUMBER      | 1                    \n",
      " ITEM_TYPE               | AGENDA               \n",
      " DISTRICT                | 1                    \n",
      " TITLE                   | Councilmember        \n",
      " VOTER_NAME              | Chad West            \n",
      " VOTE_CAST               | YES                  \n",
      " FINAL_ACTION_TAKEN      | APPROVED             \n",
      " AGENDA_ITEM_DESCRIPTION | Approval of Minut... \n",
      " AGENDA_ID               | 091620_AG_1          \n",
      " VOTE_ID                 | 091620_AG_1_1        \n",
      "-RECORD 1---------------------------------------\n",
      " DATE                    | 09/16/2020           \n",
      " AGENDA_ITEM_NUMBER      | 1                    \n",
      " ITEM_TYPE               | AGENDA               \n",
      " DISTRICT                | 10                   \n",
      " TITLE                   | Deputy Mayor Pro Tem \n",
      " VOTER_NAME              | B. Adam McGough      \n",
      " VOTE_CAST               | YES                  \n",
      " FINAL_ACTION_TAKEN      | APPROVED             \n",
      " AGENDA_ITEM_DESCRIPTION | Approval of Minut... \n",
      " AGENDA_ID               | 091620_AG_1          \n",
      " VOTE_ID                 | 091620_AG_1_10       \n",
      "-RECORD 2---------------------------------------\n",
      " DATE                    | 06/24/2020           \n",
      " AGENDA_ITEM_NUMBER      | Z16                  \n",
      " ITEM_TYPE               | AGENDA               \n",
      " DISTRICT                | 4                    \n",
      " TITLE                   | Councilmember        \n",
      " VOTER_NAME              | Carolyn King Arnold  \n",
      " VOTE_CAST               | YES                  \n",
      " FINAL_ACTION_TAKEN      | AMENDED              \n",
      " AGENDA_ITEM_DESCRIPTION | A public hearing ... \n",
      " AGENDA_ID               | 062420_AG_Z16        \n",
      " VOTE_ID                 | 062420_AG_Z16_4      \n",
      "only showing top 3 rows\n",
      "\n"
     ]
    }
   ],
   "source": [
    "# No missing values\n",
    "voter_df.filter(~ voter_df.TITLE.isNull()).show(vertical=True, n = 3)"
   ]
  },
  {
   "cell_type": "code",
   "execution_count": 16,
   "id": "b57b43bb",
   "metadata": {},
   "outputs": [
    {
     "name": "stderr",
     "output_type": "stream",
     "text": [
      "\r",
      "[Stage 24:==============>                                           (1 + 3) / 4]\r"
     ]
    },
    {
     "name": "stdout",
     "output_type": "stream",
     "text": [
      "+-------------------+-----+\n",
      "|         VOTER_NAME|count|\n",
      "+-------------------+-----+\n",
      "|     Tennell Atkins| 6405|\n",
      "|       Scott Griggs| 1157|\n",
      "|      Scott  Griggs| 2638|\n",
      "|      Sandy Greyson| 1157|\n",
      "|Michael S. Rawlings| 3795|\n",
      "|     Paula Blackmon| 3764|\n",
      "|       Kevin Felder| 2641|\n",
      "|    Cara Mendelsohn| 3764|\n",
      "|       Adam Medrano| 3795|\n",
      "|    Casey Thomas II| 3764|\n",
      "|      Jaynie Shultz| 1082|\n",
      "|               null| 1885|\n",
      "|      David Blewett| 2682|\n",
      "|   Casey Thomas, II| 2690|\n",
      "|      Mark  Clayton| 2638|\n",
      "|  Casey  Thomas, II| 1105|\n",
      "|     Sandy  Greyson| 2638|\n",
      "| Gay Donnell Willis| 1082|\n",
      "|      Adam  Medrano| 2682|\n",
      "|       Adam McGough| 1082|\n",
      "+-------------------+-----+\n",
      "only showing top 20 rows\n",
      "\n"
     ]
    },
    {
     "name": "stderr",
     "output_type": "stream",
     "text": [
      "\r",
      "                                                                                \r"
     ]
    }
   ],
   "source": [
    "# Let’s verify if there are any repetitive VOTER_NAME in the dataset we have\n",
    "voter_df.groupBy(voter_df.VOTER_NAME).count().show()"
   ]
  },
  {
   "cell_type": "code",
   "execution_count": 17,
   "id": "557601bc",
   "metadata": {},
   "outputs": [
    {
     "name": "stdout",
     "output_type": "stream",
     "text": [
      "+-------------------+-----+\n",
      "|         VOTER_NAME|count|\n",
      "+-------------------+-----+\n",
      "|     Tennell Atkins| 6405|\n",
      "|       Omar Narvaez| 6405|\n",
      "|Carolyn King Arnold| 5612|\n",
      "| Jennifer S.  Gates| 5320|\n",
      "|    Lee M. Kleinman| 5320|\n",
      "|Michael S. Rawlings| 3795|\n",
      "|       Adam Medrano| 3795|\n",
      "|   B. Adam  McGough| 3795|\n",
      "|          Chad West| 3764|\n",
      "|      Adam Bazaldua| 3764|\n",
      "|     Jaime Resendez| 3764|\n",
      "|    Cara Mendelsohn| 3764|\n",
      "|       Eric Johnson| 3764|\n",
      "|     Paula Blackmon| 3764|\n",
      "|    Casey Thomas II| 3764|\n",
      "|   Casey Thomas, II| 2690|\n",
      "|    B. Adam McGough| 2682|\n",
      "|      David Blewett| 2682|\n",
      "|      Adam  Medrano| 2682|\n",
      "|       Kevin Felder| 2641|\n",
      "+-------------------+-----+\n",
      "only showing top 20 rows\n",
      "\n"
     ]
    }
   ],
   "source": [
    "voter_df.groupby(voter_df.VOTER_NAME).count().sort(F.desc(\"count\")).show()"
   ]
  },
  {
   "cell_type": "code",
   "execution_count": 18,
   "id": "bf77459a",
   "metadata": {},
   "outputs": [
    {
     "name": "stdout",
     "output_type": "stream",
     "text": [
      "-RECORD 0---------------------------------------\n",
      " DATE                    | 09/16/2020           \n",
      " AGENDA_ITEM_NUMBER      | 1                    \n",
      " ITEM_TYPE               | AGENDA               \n",
      " DISTRICT                | 1                    \n",
      " TITLE                   | Councilmember        \n",
      " VOTER_NAME              | Chad West            \n",
      " VOTE_CAST               | YES                  \n",
      " FINAL_ACTION_TAKEN      | APPROVED             \n",
      " AGENDA_ITEM_DESCRIPTION | Approval of Minut... \n",
      " AGENDA_ID               | 091620_AG_1          \n",
      " VOTE_ID                 | 091620_AG_1_1        \n",
      "-RECORD 1---------------------------------------\n",
      " DATE                    | 09/16/2020           \n",
      " AGENDA_ITEM_NUMBER      | 1                    \n",
      " ITEM_TYPE               | AGENDA               \n",
      " DISTRICT                | 10                   \n",
      " TITLE                   | Deputy Mayor Pro Tem \n",
      " VOTER_NAME              | B. Adam McGough      \n",
      " VOTE_CAST               | YES                  \n",
      " FINAL_ACTION_TAKEN      | APPROVED             \n",
      " AGENDA_ITEM_DESCRIPTION | Approval of Minut... \n",
      " AGENDA_ID               | 091620_AG_1          \n",
      " VOTE_ID                 | 091620_AG_1_10       \n",
      "-RECORD 2---------------------------------------\n",
      " DATE                    | 06/24/2020           \n",
      " AGENDA_ITEM_NUMBER      | Z16                  \n",
      " ITEM_TYPE               | AGENDA               \n",
      " DISTRICT                | 4                    \n",
      " TITLE                   | Councilmember        \n",
      " VOTER_NAME              | Carolyn King Arnold  \n",
      " VOTE_CAST               | YES                  \n",
      " FINAL_ACTION_TAKEN      | AMENDED              \n",
      " AGENDA_ITEM_DESCRIPTION | A public hearing ... \n",
      " AGENDA_ID               | 062420_AG_Z16        \n",
      " VOTE_ID                 | 062420_AG_Z16_4      \n",
      "-RECORD 3---------------------------------------\n",
      " DATE                    | 06/24/2020           \n",
      " AGENDA_ITEM_NUMBER      | Z16                  \n",
      " ITEM_TYPE               | AGENDA               \n",
      " DISTRICT                | 5                    \n",
      " TITLE                   | Councilmember        \n",
      " VOTER_NAME              | Jaime Resendez       \n",
      " VOTE_CAST               | YES                  \n",
      " FINAL_ACTION_TAKEN      | AMENDED              \n",
      " AGENDA_ITEM_DESCRIPTION | A public hearing ... \n",
      " AGENDA_ID               | 062420_AG_Z16        \n",
      " VOTE_ID                 | 062420_AG_Z16_5      \n",
      "-RECORD 4---------------------------------------\n",
      " DATE                    | 06/24/2020           \n",
      " AGENDA_ITEM_NUMBER      | Z16                  \n",
      " ITEM_TYPE               | AGENDA               \n",
      " DISTRICT                | 6                    \n",
      " TITLE                   | Councilmember        \n",
      " VOTER_NAME              | Omar Narvaez         \n",
      " VOTE_CAST               | YES                  \n",
      " FINAL_ACTION_TAKEN      | AMENDED              \n",
      " AGENDA_ITEM_DESCRIPTION | A public hearing ... \n",
      " AGENDA_ID               | 062420_AG_Z16        \n",
      " VOTE_ID                 | 062420_AG_Z16_6      \n",
      "-RECORD 5---------------------------------------\n",
      " DATE                    | 06/24/2020           \n",
      " AGENDA_ITEM_NUMBER      | Z16                  \n",
      " ITEM_TYPE               | AGENDA               \n",
      " DISTRICT                | 7                    \n",
      " TITLE                   | Councilmember        \n",
      " VOTER_NAME              | Adam Bazaldua        \n",
      " VOTE_CAST               | YES                  \n",
      " FINAL_ACTION_TAKEN      | AMENDED              \n",
      " AGENDA_ITEM_DESCRIPTION | A public hearing ... \n",
      " AGENDA_ID               | 062420_AG_Z16        \n",
      " VOTE_ID                 | 062420_AG_Z16_7      \n",
      "-RECORD 6---------------------------------------\n",
      " DATE                    | 06/24/2020           \n",
      " AGENDA_ITEM_NUMBER      | Z16                  \n",
      " ITEM_TYPE               | AGENDA               \n",
      " DISTRICT                | 8                    \n",
      " TITLE                   | Councilmember        \n",
      " VOTER_NAME              | Tennell Atkins       \n",
      " VOTE_CAST               | YES                  \n",
      " FINAL_ACTION_TAKEN      | AMENDED              \n",
      " AGENDA_ITEM_DESCRIPTION | A public hearing ... \n",
      " AGENDA_ID               | 062420_AG_Z16        \n",
      " VOTE_ID                 | 062420_AG_Z16_8      \n",
      "-RECORD 7---------------------------------------\n",
      " DATE                    | 06/24/2020           \n",
      " AGENDA_ITEM_NUMBER      | Z16                  \n",
      " ITEM_TYPE               | AGENDA               \n",
      " DISTRICT                | 9                    \n",
      " TITLE                   | Councilmember        \n",
      " VOTER_NAME              | Paula Blackmon       \n",
      " VOTE_CAST               | YES                  \n",
      " FINAL_ACTION_TAKEN      | AMENDED              \n",
      " AGENDA_ITEM_DESCRIPTION | A public hearing ... \n",
      " AGENDA_ID               | 062420_AG_Z16        \n",
      " VOTE_ID                 | 062420_AG_Z16_9      \n",
      "-RECORD 8---------------------------------------\n",
      " DATE                    | 06/24/2020           \n",
      " AGENDA_ITEM_NUMBER      | Z17                  \n",
      " ITEM_TYPE               | AGENDA               \n",
      " DISTRICT                | 1                    \n",
      " TITLE                   | Councilmember        \n",
      " VOTER_NAME              | Chad West            \n",
      " VOTE_CAST               | YES                  \n",
      " FINAL_ACTION_TAKEN      | DENIED WITH PREJU... \n",
      " AGENDA_ITEM_DESCRIPTION | A public hearing ... \n",
      " AGENDA_ID               | 062420_AG_Z17        \n",
      " VOTE_ID                 | 062420_AG_Z17_1      \n",
      "-RECORD 9---------------------------------------\n",
      " DATE                    | 06/24/2020           \n",
      " AGENDA_ITEM_NUMBER      | Z17                  \n",
      " ITEM_TYPE               | AGENDA               \n",
      " DISTRICT                | 10                   \n",
      " TITLE                   | Deputy Mayor Pro Tem \n",
      " VOTER_NAME              | B. Adam McGough      \n",
      " VOTE_CAST               | YES                  \n",
      " FINAL_ACTION_TAKEN      | DENIED WITH PREJU... \n",
      " AGENDA_ITEM_DESCRIPTION | A public hearing ... \n",
      " AGENDA_ID               | 062420_AG_Z17        \n",
      " VOTE_ID                 | 062420_AG_Z17_10     \n",
      "-RECORD 10--------------------------------------\n",
      " DATE                    | 06/24/2020           \n",
      " AGENDA_ITEM_NUMBER      | Z17                  \n",
      " ITEM_TYPE               | AGENDA               \n",
      " DISTRICT                | 11                   \n",
      " TITLE                   | Councilmember        \n",
      " VOTER_NAME              | Lee M. Kleinman      \n",
      " VOTE_CAST               | YES                  \n",
      " FINAL_ACTION_TAKEN      | DENIED WITH PREJU... \n",
      " AGENDA_ITEM_DESCRIPTION | A public hearing ... \n",
      " AGENDA_ID               | 062420_AG_Z17        \n",
      " VOTE_ID                 | 062420_AG_Z17_11     \n",
      "-RECORD 11--------------------------------------\n",
      " DATE                    | 01/11/2017           \n",
      " AGENDA_ITEM_NUMBER      | 1                    \n",
      " ITEM_TYPE               | AGENDA DATE          \n",
      " DISTRICT                | 13                   \n",
      " TITLE                   | Councilmember        \n",
      " VOTER_NAME              | Jennifer S. Gates    \n",
      " VOTE_CAST               | YES                  \n",
      " FINAL_ACTION_TAKEN      | APPROVED             \n",
      " AGENDA_ITEM_DESCRIPTION | Approval of Minut... \n",
      " AGENDA_ID               | 011117__1            \n",
      " VOTE_ID                 | 011117__1_13         \n",
      "-RECORD 12--------------------------------------\n",
      " DATE                    | 04/25/2018           \n",
      " AGENDA_ITEM_NUMBER      | 1                    \n",
      " ITEM_TYPE               | AGENDA DATE          \n",
      " DISTRICT                | 12                   \n",
      " TITLE                   | Councilmember        \n",
      " VOTER_NAME              | Sandy  Greyson       \n",
      " VOTE_CAST               | YES                  \n",
      " FINAL_ACTION_TAKEN      | APPROVED             \n",
      " AGENDA_ITEM_DESCRIPTION | Approval of Minut... \n",
      " AGENDA_ID               | 042518__1            \n",
      " VOTE_ID                 | 042518__1_12         \n",
      "-RECORD 13--------------------------------------\n",
      " DATE                    | 04/25/2018           \n",
      " AGENDA_ITEM_NUMBER      | 1                    \n",
      " ITEM_TYPE               | AGENDA DATE          \n",
      " DISTRICT                | 13                   \n",
      " TITLE                   | Councilmember        \n",
      " VOTER_NAME              | Jennifer S.  Gates   \n",
      " VOTE_CAST               | YES                  \n",
      " FINAL_ACTION_TAKEN      | APPROVED             \n",
      " AGENDA_ITEM_DESCRIPTION | Approval of Minut... \n",
      " AGENDA_ID               | 042518__1            \n",
      " VOTE_ID                 | 042518__1_13         \n",
      "-RECORD 14--------------------------------------\n",
      " DATE                    | 04/25/2018           \n",
      " AGENDA_ITEM_NUMBER      | 1                    \n",
      " ITEM_TYPE               | AGENDA DATE          \n",
      " DISTRICT                | 14                   \n",
      " TITLE                   | Councilmember        \n",
      " VOTER_NAME              | Philip T.  Kingston  \n",
      " VOTE_CAST               | YES                  \n",
      " FINAL_ACTION_TAKEN      | APPROVED             \n",
      " AGENDA_ITEM_DESCRIPTION | Approval of Minut... \n",
      " AGENDA_ID               | 042518__1            \n",
      " VOTE_ID                 | 042518__1_14         \n",
      "-RECORD 15--------------------------------------\n",
      " DATE                    | 04/25/2018           \n",
      " AGENDA_ITEM_NUMBER      | 1                    \n",
      " ITEM_TYPE               | AGENDA DATE          \n",
      " DISTRICT                | 15                   \n",
      " TITLE                   | Mayor                \n",
      " VOTER_NAME              | Michael S. Rawlings  \n",
      " VOTE_CAST               | YES                  \n",
      " FINAL_ACTION_TAKEN      | APPROVED             \n",
      " AGENDA_ITEM_DESCRIPTION | Approval of Minut... \n",
      " AGENDA_ID               | 042518__1            \n",
      " VOTE_ID                 | 042518__1_15         \n",
      "-RECORD 16--------------------------------------\n",
      " DATE                    | 06/24/2020           \n",
      " AGENDA_ITEM_NUMBER      | Z17                  \n",
      " ITEM_TYPE               | AGENDA               \n",
      " DISTRICT                | 12                   \n",
      " TITLE                   | Councilmember        \n",
      " VOTER_NAME              | Cara Mendelsohn      \n",
      " VOTE_CAST               | YES                  \n",
      " FINAL_ACTION_TAKEN      | DENIED WITH PREJU... \n",
      " AGENDA_ITEM_DESCRIPTION | A public hearing ... \n",
      " AGENDA_ID               | 062420_AG_Z17        \n",
      " VOTE_ID                 | 062420_AG_Z17_12     \n",
      "-RECORD 17--------------------------------------\n",
      " DATE                    | 06/24/2020           \n",
      " AGENDA_ITEM_NUMBER      | Z17                  \n",
      " ITEM_TYPE               | AGENDA               \n",
      " DISTRICT                | 13                   \n",
      " TITLE                   | Councilmember        \n",
      " VOTER_NAME              | Jennifer S.  Gates   \n",
      " VOTE_CAST               | YES                  \n",
      " FINAL_ACTION_TAKEN      | DENIED WITH PREJU... \n",
      " AGENDA_ITEM_DESCRIPTION | A public hearing ... \n",
      " AGENDA_ID               | 062420_AG_Z17        \n",
      " VOTE_ID                 | 062420_AG_Z17_13     \n",
      "-RECORD 18--------------------------------------\n",
      " DATE                    | 06/24/2020           \n",
      " AGENDA_ITEM_NUMBER      | Z17                  \n",
      " ITEM_TYPE               | AGENDA               \n",
      " DISTRICT                | 14                   \n",
      " TITLE                   | Councilmember        \n",
      " VOTER_NAME              | David Blewett        \n",
      " VOTE_CAST               | YES                  \n",
      " FINAL_ACTION_TAKEN      | DENIED WITH PREJU... \n",
      " AGENDA_ITEM_DESCRIPTION | A public hearing ... \n",
      " AGENDA_ID               | 062420_AG_Z17        \n",
      " VOTE_ID                 | 062420_AG_Z17_14     \n",
      "-RECORD 19--------------------------------------\n",
      " DATE                    | 04/25/2018           \n",
      " AGENDA_ITEM_NUMBER      | 1                    \n",
      " ITEM_TYPE               | AGENDA DATE          \n",
      " DISTRICT                | 2                    \n",
      " TITLE                   | Deputy Mayor Pro Tem \n",
      " VOTER_NAME              | Adam Medrano         \n",
      " VOTE_CAST               | YES                  \n",
      " FINAL_ACTION_TAKEN      | APPROVED             \n",
      " AGENDA_ITEM_DESCRIPTION | Approval of Minut... \n",
      " AGENDA_ID               | 042518__1            \n",
      " VOTE_ID                 | 042518__1_2          \n",
      "only showing top 20 rows\n",
      "\n"
     ]
    }
   ],
   "source": [
    "# Subsetting and creating a temporary DataFrame to eliminate any missing values\n",
    "df_temp = voter_df.filter((voter_df.TITLE != '') & (voter_df.TITLE.isNotNull()) & (~F.isnan(voter_df.TITLE)))\n",
    "df_temp.show(vertical=True)"
   ]
  },
  {
   "cell_type": "code",
   "execution_count": 19,
   "id": "925faec4",
   "metadata": {},
   "outputs": [
    {
     "name": "stderr",
     "output_type": "stream",
     "text": [
      "\r",
      "[Stage 31:>                                                         (0 + 4) / 4]\r"
     ]
    },
    {
     "name": "stdout",
     "output_type": "stream",
     "text": [
      "+-------------------+-----+\n",
      "|         VOTER_NAME|count|\n",
      "+-------------------+-----+\n",
      "|       Omar Narvaez| 6405|\n",
      "|     Tennell Atkins| 6405|\n",
      "|Carolyn King Arnold| 5612|\n",
      "|    Lee M. Kleinman| 5320|\n",
      "| Jennifer S.  Gates| 5320|\n",
      "|   B. Adam  McGough| 3795|\n",
      "|Michael S. Rawlings| 3795|\n",
      "|       Adam Medrano| 3795|\n",
      "|     Paula Blackmon| 3764|\n",
      "|    Cara Mendelsohn| 3764|\n",
      "|          Chad West| 3764|\n",
      "|    Casey Thomas II| 3764|\n",
      "|      Adam Bazaldua| 3764|\n",
      "|     Jaime Resendez| 3764|\n",
      "|       Eric Johnson| 3764|\n",
      "+-------------------+-----+\n",
      "\n"
     ]
    },
    {
     "name": "stderr",
     "output_type": "stream",
     "text": [
      "\r",
      "                                                                                \r"
     ]
    }
   ],
   "source": [
    "# Subsetting the DataFrame to Voter names that are repeated more than 3000 times\n",
    "df_temp.groupby(df_temp['VOTER_NAME']).count().filter(\"count >= 3000\").sort(F.col(\"count\").desc()).show()"
   ]
  },
  {
   "cell_type": "code",
   "execution_count": 20,
   "id": "3609dc1d",
   "metadata": {},
   "outputs": [],
   "source": [
    "# The following command is to delete any temporary DataFrames that we\n",
    "# created in the process\n",
    "del df_temp"
   ]
  },
  {
   "cell_type": "code",
   "execution_count": 21,
   "id": "0bb53e28",
   "metadata": {},
   "outputs": [],
   "source": [
    "# del voter_df"
   ]
  },
  {
   "cell_type": "code",
   "execution_count": 22,
   "id": "97985f2f",
   "metadata": {},
   "outputs": [],
   "source": [
    "# Create a spark session\n",
    "spark = SparkSession.builder.appName('data_preprocessing').getOrCreate()\n",
    "vote = spark.read.csv(DATAPATH, header = True)"
   ]
  },
  {
   "cell_type": "code",
   "execution_count": 23,
   "id": "424ee2db",
   "metadata": {},
   "outputs": [
    {
     "name": "stdout",
     "output_type": "stream",
     "text": [
      "root\n",
      " |-- DATE: string (nullable = true)\n",
      " |-- AGENDA_ITEM_NUMBER: string (nullable = true)\n",
      " |-- ITEM_TYPE: string (nullable = true)\n",
      " |-- DISTRICT: string (nullable = true)\n",
      " |-- TITLE: string (nullable = true)\n",
      " |-- VOTER NAME: string (nullable = true)\n",
      " |-- VOTE CAST: string (nullable = true)\n",
      " |-- FINAL ACTION TAKEN: string (nullable = true)\n",
      " |-- AGENDA ITEM DESCRIPTION: string (nullable = true)\n",
      " |-- AGENDA_ID: string (nullable = true)\n",
      " |-- VOTE_ID: string (nullable = true)\n",
      "\n"
     ]
    }
   ],
   "source": [
    "vote.printSchema()"
   ]
  },
  {
   "cell_type": "code",
   "execution_count": 24,
   "id": "4ae4c2ec",
   "metadata": {
    "scrolled": true
   },
   "outputs": [
    {
     "data": {
      "text/plain": [
       "[('DATE', 'string'),\n",
       " ('AGENDA_ITEM_NUMBER', 'string'),\n",
       " ('ITEM_TYPE', 'string'),\n",
       " ('DISTRICT', 'string'),\n",
       " ('TITLE', 'string'),\n",
       " ('VOTER NAME', 'string'),\n",
       " ('VOTE CAST', 'string'),\n",
       " ('FINAL ACTION TAKEN', 'string'),\n",
       " ('AGENDA ITEM DESCRIPTION', 'string'),\n",
       " ('AGENDA_ID', 'string'),\n",
       " ('VOTE_ID', 'string')]"
      ]
     },
     "execution_count": 24,
     "metadata": {},
     "output_type": "execute_result"
    }
   ],
   "source": [
    "vote.dtypes"
   ]
  },
  {
   "cell_type": "code",
   "execution_count": 25,
   "id": "d380e34b",
   "metadata": {},
   "outputs": [
    {
     "data": {
      "text/plain": [
       "[('DATE', 'string'),\n",
       " ('AGENDA_ITEM_NUMBER', 'string'),\n",
       " ('ITEM_TYPE', 'string'),\n",
       " ('DISTRICT', 'string'),\n",
       " ('TITLE', 'string'),\n",
       " ('VOTER NAME', 'string'),\n",
       " ('VOTE CAST', 'string'),\n",
       " ('FINAL ACTION TAKEN', 'string'),\n",
       " ('AGENDA ITEM DESCRIPTION', 'string'),\n",
       " ('AGENDA_ID', 'string'),\n",
       " ('Vote_ID', 'int')]"
      ]
     },
     "execution_count": 25,
     "metadata": {},
     "output_type": "execute_result"
    }
   ],
   "source": [
    "# Change the VOTE ID datatype to Integer\n",
    "vote.withColumn(\"Vote_ID\", vote['VOTE_ID'].cast('int')).dtypes"
   ]
  },
  {
   "cell_type": "code",
   "execution_count": 26,
   "id": "5d8bd928",
   "metadata": {},
   "outputs": [],
   "source": [
    "date_vars = ['DATE']\n",
    "int_vars = ['AGENDA_ID', 'VOTE_ID']\n",
    "float_vars = ['AGENDA_ITEM_NUMBER', 'DISTRICT']\n",
    "\n",
    "# Converting variables to the right datatype\n",
    "for column in date_vars:\n",
    "    vote = vote.withColumn(column, vote[column].cast(DateType()))\n",
    "for column in int_vars:\n",
    "    vote = vote.withColumn(column, vote[column].cast(IntegerType()))\n",
    "for column in float_vars:\n",
    "    vote = vote.withColumn(column, vote[column].cast(FloatType()))"
   ]
  },
  {
   "cell_type": "code",
   "execution_count": 27,
   "id": "a7e84b3d",
   "metadata": {
    "scrolled": true
   },
   "outputs": [
    {
     "data": {
      "text/plain": [
       "[('DATE', 'date'),\n",
       " ('AGENDA_ITEM_NUMBER', 'float'),\n",
       " ('ITEM_TYPE', 'string'),\n",
       " ('DISTRICT', 'float'),\n",
       " ('TITLE', 'string'),\n",
       " ('VOTER NAME', 'string'),\n",
       " ('VOTE CAST', 'string'),\n",
       " ('FINAL ACTION TAKEN', 'string'),\n",
       " ('AGENDA ITEM DESCRIPTION', 'string'),\n",
       " ('AGENDA_ID', 'int'),\n",
       " ('VOTE_ID', 'int')]"
      ]
     },
     "execution_count": 27,
     "metadata": {},
     "output_type": "execute_result"
    }
   ],
   "source": [
    "vote.dtypes"
   ]
  },
  {
   "cell_type": "code",
   "execution_count": 28,
   "id": "e29eb8a4",
   "metadata": {},
   "outputs": [
    {
     "name": "stderr",
     "output_type": "stream",
     "text": [
      "[Stage 35:=============================>                            (2 + 2) / 4]\r"
     ]
    },
    {
     "name": "stdout",
     "output_type": "stream",
     "text": [
      "-RECORD 0---------------------------------------\n",
      " summary                 | count                \n",
      " AGENDA_ITEM_NUMBER      | 103215               \n",
      " ITEM_TYPE               | 114705               \n",
      " DISTRICT                | 113415               \n",
      " TITLE                   | 113625               \n",
      " VOTER NAME              | 113120               \n",
      " VOTE CAST               | 113505               \n",
      " FINAL ACTION TAKEN      | 113445               \n",
      " AGENDA ITEM DESCRIPTION | 113415               \n",
      " AGENDA_ID               | 15                   \n",
      " VOTE_ID                 | 45                   \n",
      "-RECORD 1---------------------------------------\n",
      " summary                 | mean                 \n",
      " AGENDA_ITEM_NUMBER      | 33.66309402703096    \n",
      " ITEM_TYPE               | 87.0                 \n",
      " DISTRICT                | 8.228012167702685    \n",
      " TITLE                   | null                 \n",
      " VOTER NAME              | null                 \n",
      " VOTE CAST               | null                 \n",
      " FINAL ACTION TAKEN      | null                 \n",
      " AGENDA ITEM DESCRIPTION | null                 \n",
      " AGENDA_ID               | 0.0                  \n",
      " VOTE_ID                 | 234.66666666666666   \n",
      "-RECORD 2---------------------------------------\n",
      " summary                 | stddev               \n",
      " AGENDA_ITEM_NUMBER      | 34.918232003975675   \n",
      " ITEM_TYPE               | 0.0                  \n",
      " DISTRICT                | 14.817555893667526   \n",
      " TITLE                   | null                 \n",
      " VOTER NAME              | null                 \n",
      " VOTE CAST               | null                 \n",
      " FINAL ACTION TAKEN      | null                 \n",
      " AGENDA ITEM DESCRIPTION | null                 \n",
      " AGENDA_ID               | 0.0                  \n",
      " VOTE_ID                 | 96.29972151380483    \n",
      "-RECORD 3---------------------------------------\n",
      " summary                 | min                  \n",
      " AGENDA_ITEM_NUMBER      | 1.0                  \n",
      " ITEM_TYPE               |   2012 to  April  15 \n",
      " DISTRICT                | 1.0                  \n",
      " TITLE                   |   and RDO Equipme... \n",
      " VOTER NAME              |  CITY PLAN COMMIS... \n",
      " VOTE CAST               |   Inc.  in  the  ... \n",
      " FINAL ACTION TAKEN      |  Chair               \n",
      " AGENDA ITEM DESCRIPTION |  to the Reinvestm... \n",
      " AGENDA_ID               | 0                    \n",
      " VOTE_ID                 | 100                  \n",
      "-RECORD 4---------------------------------------\n",
      " summary                 | max                  \n",
      " AGENDA_ITEM_NUMBER      | 2019.0               \n",
      " ITEM_TYPE               | SPECIAL AGENDA       \n",
      " DISTRICT                | 999.0                \n",
      " TITLE                   | Vacant               \n",
      " VOTER NAME              | Tiffinni A. Young    \n",
      " VOTE CAST               | YES                  \n",
      " FINAL ACTION TAKEN      | REMANDED TO THE T... \n",
      " AGENDA ITEM DESCRIPTION | uthorize an Inter... \n",
      " AGENDA_ID               | 0                    \n",
      " VOTE_ID                 | 302                  \n",
      "\n"
     ]
    },
    {
     "name": "stderr",
     "output_type": "stream",
     "text": [
      "\r",
      "                                                                                \r"
     ]
    }
   ],
   "source": [
    "vote.describe().show(5, vertical=True)"
   ]
  },
  {
   "cell_type": "code",
   "execution_count": 29,
   "id": "056b6574",
   "metadata": {},
   "outputs": [],
   "source": [
    "del vote"
   ]
  },
  {
   "cell_type": "code",
   "execution_count": 30,
   "id": "9b6915be",
   "metadata": {},
   "outputs": [
    {
     "data": {
      "text/plain": [
       "115005"
      ]
     },
     "execution_count": 30,
     "metadata": {},
     "output_type": "execute_result"
    }
   ],
   "source": [
    "voter_df.count()"
   ]
  },
  {
   "cell_type": "code",
   "execution_count": 31,
   "id": "3ff07544",
   "metadata": {},
   "outputs": [
    {
     "name": "stderr",
     "output_type": "stream",
     "text": [
      "[Stage 41:===========================================>              (3 + 1) / 4]\r"
     ]
    },
    {
     "name": "stdout",
     "output_type": "stream",
     "text": [
      "+-------+--------------------+--------------------+--------------------+--------------------+\n",
      "|summary|           AGENDA_ID|             VOTE_ID|  AGENDA_ITEM_NUMBER|            DISTRICT|\n",
      "+-------+--------------------+--------------------+--------------------+--------------------+\n",
      "|  count|              112155|              112155|              114930|              113835|\n",
      "|   mean|                 0.0|  234.73333333333332|   33.66309402703096|   8.228012167702685|\n",
      "| stddev|                 0.0|   96.34739464326711|  34.918232003975675|  14.817555893667526|\n",
      "|    min| 2016 through Nov...|  to  re-establis...|   subject to con...|  2025 -  Estimat...|\n",
      "|    max|999 from the Texa...|999 from the Texa...|                  Z9|              999.00|\n",
      "+-------+--------------------+--------------------+--------------------+--------------------+\n",
      "\n"
     ]
    },
    {
     "name": "stderr",
     "output_type": "stream",
     "text": [
      "\r",
      "                                                                                \r"
     ]
    }
   ],
   "source": [
    "voter_df.select('AGENDA_ID', 'VOTE_ID', 'AGENDA_ITEM_NUMBER', 'DISTRICT').describe().show(5)"
   ]
  },
  {
   "cell_type": "code",
   "execution_count": 32,
   "id": "b9f37b84",
   "metadata": {},
   "outputs": [
    {
     "data": {
      "text/plain": [
       "[Row(DATE='09/16/2020', AGENDA_ITEM_NUMBER='1', ITEM_TYPE='AGENDA', DISTRICT='1', TITLE='Councilmember', VOTER_NAME='Chad West', VOTE_CAST='YES', FINAL_ACTION_TAKEN='APPROVED', AGENDA_ITEM_DESCRIPTION='Approval of Minutes of the September 2, 2020 City Council Meeting', AGENDA_ID='091620_AG_1', VOTE_ID='091620_AG_1_1'),\n",
       " Row(DATE='09/16/2020', AGENDA_ITEM_NUMBER='1', ITEM_TYPE='AGENDA', DISTRICT='10', TITLE='Deputy Mayor Pro Tem', VOTER_NAME='B. Adam McGough', VOTE_CAST='YES', FINAL_ACTION_TAKEN='APPROVED', AGENDA_ITEM_DESCRIPTION='Approval of Minutes of the September 2, 2020 City Council Meeting', AGENDA_ID='091620_AG_1', VOTE_ID='091620_AG_1_10')]"
      ]
     },
     "execution_count": 32,
     "metadata": {},
     "output_type": "execute_result"
    }
   ],
   "source": [
    "voter_df.head(2)"
   ]
  },
  {
   "cell_type": "code",
   "execution_count": 33,
   "id": "b77d259d",
   "metadata": {},
   "outputs": [
    {
     "name": "stdout",
     "output_type": "stream",
     "text": [
      "+----------------------------------+\n",
      "|corr(AGENDA_ITEM_NUMBER, DISTRICT)|\n",
      "+----------------------------------+\n",
      "|               0.18464586874451538|\n",
      "+----------------------------------+\n",
      "\n"
     ]
    }
   ],
   "source": [
    "# Correlation between variables\n",
    "voter_df.select(F.corr('AGENDA_ITEM_NUMBER', 'DISTRICT')).show()"
   ]
  },
  {
   "cell_type": "markdown",
   "id": "6c99b893",
   "metadata": {},
   "source": [
    "The Agenda_Item_Number is poorly correlated with the District variable"
   ]
  },
  {
   "cell_type": "markdown",
   "id": "0fa9b360",
   "metadata": {},
   "source": [
    "# Data Manipulation/Cleaning"
   ]
  },
  {
   "cell_type": "markdown",
   "id": "4776fe9f",
   "metadata": {},
   "source": [
    "Task:\n",
    "- Show the distinct VOTER_NAME entries.\n",
    "- Filter voter_df where the VOTER_NAME is 1-20 characters in length.\n",
    "- Filter out voter_df where the VOTER_NAME contains an _.\n",
    "- Show the distinct VOTER_NAME entries again."
   ]
  },
  {
   "cell_type": "markdown",
   "id": "ce2ed105",
   "metadata": {},
   "source": [
    "**Show the distinct VOTER_NAME entries.**"
   ]
  },
  {
   "cell_type": "code",
   "execution_count": 34,
   "id": "4fa1ea7e",
   "metadata": {},
   "outputs": [
    {
     "name": "stdout",
     "output_type": "stream",
     "text": [
      "+-------------------+\n",
      "|VOTER_NAME         |\n",
      "+-------------------+\n",
      "|Tennell Atkins     |\n",
      "|Scott Griggs       |\n",
      "|Scott  Griggs      |\n",
      "|Sandy Greyson      |\n",
      "|Michael S. Rawlings|\n",
      "|Paula Blackmon     |\n",
      "|Kevin Felder       |\n",
      "|Cara Mendelsohn    |\n",
      "|Adam Medrano       |\n",
      "|Casey Thomas II    |\n",
      "|Jaynie Shultz      |\n",
      "|null               |\n",
      "|David Blewett      |\n",
      "|Casey Thomas, II   |\n",
      "|Mark  Clayton      |\n",
      "|Casey  Thomas, II  |\n",
      "|Sandy  Greyson     |\n",
      "|Gay Donnell Willis |\n",
      "|Adam  Medrano      |\n",
      "|Adam McGough       |\n",
      "|Mark Clayton       |\n",
      "|Jennifer S.  Gates |\n",
      "|Chad West          |\n",
      "|Tiffinni A. Young  |\n",
      "|B. Adam  McGough   |\n",
      "|Paul Ridley        |\n",
      "|Omar Narvaez       |\n",
      "|Philip T. Kingston |\n",
      "|Rickey D. Callahan |\n",
      "|Dwaine R. Caraway  |\n",
      "|Philip T.  Kingston|\n",
      "|Jennifer S. Gates  |\n",
      "|Lee M. Kleinman    |\n",
      "|B. Adam McGough    |\n",
      "|Jesse Moreno       |\n",
      "|Monica R. Alonzo   |\n",
      "|Adam Bazaldua      |\n",
      "|Jaime Resendez     |\n",
      "|Rickey D.  Callahan|\n",
      "|Eric Johnson       |\n",
      "+-------------------+\n",
      "only showing top 40 rows\n",
      "\n"
     ]
    }
   ],
   "source": [
    "voter_df.select(\"VOTER_NAME\").distinct().show(truncate=False, n=40)"
   ]
  },
  {
   "cell_type": "markdown",
   "id": "ec850ed8",
   "metadata": {},
   "source": [
    "**Filter voter_df where the VOTER_NAME is 1-20 characters in length.**"
   ]
  },
  {
   "cell_type": "code",
   "execution_count": 35,
   "id": "b717705c",
   "metadata": {},
   "outputs": [
    {
     "name": "stdout",
     "output_type": "stream",
     "text": [
      "-RECORD 0-----------------------------------------------------------------------------------------------------------------------------------------------------------------------------------------------------------------------------------------------------------------------------------------------------------------------------------------------------------------------------------------------------------------\n",
      " DATE                    | 09/16/2020                                                                                                                                                                                                                                                                                                                                                                                     \n",
      " AGENDA_ITEM_NUMBER      | 1                                                                                                                                                                                                                                                                                                                                                                                              \n",
      " ITEM_TYPE               | AGENDA                                                                                                                                                                                                                                                                                                                                                                                         \n",
      " DISTRICT                | 1                                                                                                                                                                                                                                                                                                                                                                                              \n",
      " TITLE                   | Councilmember                                                                                                                                                                                                                                                                                                                                                                                  \n",
      " VOTER_NAME              | Chad West                                                                                                                                                                                                                                                                                                                                                                                      \n",
      " VOTE_CAST               | YES                                                                                                                                                                                                                                                                                                                                                                                            \n",
      " FINAL_ACTION_TAKEN      | APPROVED                                                                                                                                                                                                                                                                                                                                                                                       \n",
      " AGENDA_ITEM_DESCRIPTION | Approval of Minutes of the September 2, 2020 City Council Meeting                                                                                                                                                                                                                                                                                                                              \n",
      " AGENDA_ID               | 091620_AG_1                                                                                                                                                                                                                                                                                                                                                                                    \n",
      " VOTE_ID                 | 091620_AG_1_1                                                                                                                                                                                                                                                                                                                                                                                  \n",
      "-RECORD 1-----------------------------------------------------------------------------------------------------------------------------------------------------------------------------------------------------------------------------------------------------------------------------------------------------------------------------------------------------------------------------------------------------------------\n",
      " DATE                    | 09/16/2020                                                                                                                                                                                                                                                                                                                                                                                     \n",
      " AGENDA_ITEM_NUMBER      | 1                                                                                                                                                                                                                                                                                                                                                                                              \n",
      " ITEM_TYPE               | AGENDA                                                                                                                                                                                                                                                                                                                                                                                         \n",
      " DISTRICT                | 10                                                                                                                                                                                                                                                                                                                                                                                             \n",
      " TITLE                   | Deputy Mayor Pro Tem                                                                                                                                                                                                                                                                                                                                                                           \n",
      " VOTER_NAME              | B. Adam McGough                                                                                                                                                                                                                                                                                                                                                                                \n",
      " VOTE_CAST               | YES                                                                                                                                                                                                                                                                                                                                                                                            \n",
      " FINAL_ACTION_TAKEN      | APPROVED                                                                                                                                                                                                                                                                                                                                                                                       \n",
      " AGENDA_ITEM_DESCRIPTION | Approval of Minutes of the September 2, 2020 City Council Meeting                                                                                                                                                                                                                                                                                                                              \n",
      " AGENDA_ID               | 091620_AG_1                                                                                                                                                                                                                                                                                                                                                                                    \n",
      " VOTE_ID                 | 091620_AG_1_10                                                                                                                                                                                                                                                                                                                                                                                 \n",
      "-RECORD 2-----------------------------------------------------------------------------------------------------------------------------------------------------------------------------------------------------------------------------------------------------------------------------------------------------------------------------------------------------------------------------------------------------------------\n",
      " DATE                    | 06/24/2020                                                                                                                                                                                                                                                                                                                                                                                     \n",
      " AGENDA_ITEM_NUMBER      | Z16                                                                                                                                                                                                                                                                                                                                                                                            \n",
      " ITEM_TYPE               | AGENDA                                                                                                                                                                                                                                                                                                                                                                                         \n",
      " DISTRICT                | 4                                                                                                                                                                                                                                                                                                                                                                                              \n",
      " TITLE                   | Councilmember                                                                                                                                                                                                                                                                                                                                                                                  \n",
      " VOTER_NAME              | Carolyn King Arnold                                                                                                                                                                                                                                                                                                                                                                            \n",
      " VOTE_CAST               | YES                                                                                                                                                                                                                                                                                                                                                                                            \n",
      " FINAL_ACTION_TAKEN      | AMENDED                                                                                                                                                                                                                                                                                                                                                                                        \n",
      " AGENDA_ITEM_DESCRIPTION | A public hearing to receive comments regarding an application for and an ordinance granting a Planned Development Subdistrict for mixed uses on property zoned an HC Heavy Commercial Subdistrict within Planned Development District No. 193, the Oak Lawn Special Purpose District, on the northwest line of Woodall Rodgers Freeway, between North St. Paul Street and North Harwood Street \n",
      " AGENDA_ID               | 062420_AG_Z16                                                                                                                                                                                                                                                                                                                                                                                  \n",
      " VOTE_ID                 | 062420_AG_Z16_4                                                                                                                                                                                                                                                                                                                                                                                \n",
      "-RECORD 3-----------------------------------------------------------------------------------------------------------------------------------------------------------------------------------------------------------------------------------------------------------------------------------------------------------------------------------------------------------------------------------------------------------------\n",
      " DATE                    | 06/24/2020                                                                                                                                                                                                                                                                                                                                                                                     \n",
      " AGENDA_ITEM_NUMBER      | Z16                                                                                                                                                                                                                                                                                                                                                                                            \n",
      " ITEM_TYPE               | AGENDA                                                                                                                                                                                                                                                                                                                                                                                         \n",
      " DISTRICT                | 5                                                                                                                                                                                                                                                                                                                                                                                              \n",
      " TITLE                   | Councilmember                                                                                                                                                                                                                                                                                                                                                                                  \n",
      " VOTER_NAME              | Jaime Resendez                                                                                                                                                                                                                                                                                                                                                                                 \n",
      " VOTE_CAST               | YES                                                                                                                                                                                                                                                                                                                                                                                            \n",
      " FINAL_ACTION_TAKEN      | AMENDED                                                                                                                                                                                                                                                                                                                                                                                        \n",
      " AGENDA_ITEM_DESCRIPTION | A public hearing to receive comments regarding an application for and an ordinance granting a Planned Development Subdistrict for mixed uses on property zoned an HC Heavy Commercial Subdistrict within Planned Development District No. 193, the Oak Lawn Special Purpose District, on the northwest line of Woodall Rodgers Freeway, between North St. Paul Street and North Harwood Street \n",
      " AGENDA_ID               | 062420_AG_Z16                                                                                                                                                                                                                                                                                                                                                                                  \n",
      " VOTE_ID                 | 062420_AG_Z16_5                                                                                                                                                                                                                                                                                                                                                                                \n",
      "-RECORD 4-----------------------------------------------------------------------------------------------------------------------------------------------------------------------------------------------------------------------------------------------------------------------------------------------------------------------------------------------------------------------------------------------------------------\n",
      " DATE                    | 06/24/2020                                                                                                                                                                                                                                                                                                                                                                                     \n",
      " AGENDA_ITEM_NUMBER      | Z16                                                                                                                                                                                                                                                                                                                                                                                            \n",
      " ITEM_TYPE               | AGENDA                                                                                                                                                                                                                                                                                                                                                                                         \n",
      " DISTRICT                | 6                                                                                                                                                                                                                                                                                                                                                                                              \n",
      " TITLE                   | Councilmember                                                                                                                                                                                                                                                                                                                                                                                  \n",
      " VOTER_NAME              | Omar Narvaez                                                                                                                                                                                                                                                                                                                                                                                   \n",
      " VOTE_CAST               | YES                                                                                                                                                                                                                                                                                                                                                                                            \n",
      " FINAL_ACTION_TAKEN      | AMENDED                                                                                                                                                                                                                                                                                                                                                                                        \n",
      " AGENDA_ITEM_DESCRIPTION | A public hearing to receive comments regarding an application for and an ordinance granting a Planned Development Subdistrict for mixed uses on property zoned an HC Heavy Commercial Subdistrict within Planned Development District No. 193, the Oak Lawn Special Purpose District, on the northwest line of Woodall Rodgers Freeway, between North St. Paul Street and North Harwood Street \n",
      " AGENDA_ID               | 062420_AG_Z16                                                                                                                                                                                                                                                                                                                                                                                  \n",
      " VOTE_ID                 | 062420_AG_Z16_6                                                                                                                                                                                                                                                                                                                                                                                \n",
      "only showing top 5 rows\n",
      "\n"
     ]
    }
   ],
   "source": [
    "voter_df = voter_df.filter(\"length(VOTER_NAME) > 0 and length(VOTER_NAME) < 20\")\n",
    "voter_df.show(5, vertical=True, truncate=False)"
   ]
  },
  {
   "cell_type": "markdown",
   "id": "4c21fc62",
   "metadata": {},
   "source": [
    "**Filter out voter_df where the VOTER_NAME contains an _(underscore)**"
   ]
  },
  {
   "cell_type": "code",
   "execution_count": 36,
   "id": "d75ae418",
   "metadata": {},
   "outputs": [],
   "source": [
    "voter_df = voter_df.filter(~ F.col(\"VOTER_NAME\").contains(\"_\"))"
   ]
  },
  {
   "cell_type": "markdown",
   "id": "52d80ae6",
   "metadata": {},
   "source": [
    "**Show the distinct VOTER_NAME entries again.**"
   ]
  },
  {
   "cell_type": "code",
   "execution_count": 37,
   "id": "7bb4b2dc",
   "metadata": {},
   "outputs": [
    {
     "name": "stdout",
     "output_type": "stream",
     "text": [
      "+----------+-------------------+\n",
      "|      DATE|         VOTER_NAME|\n",
      "+----------+-------------------+\n",
      "|08/29/2018|   B. Adam  McGough|\n",
      "|09/06/2017| Jennifer S.  Gates|\n",
      "|02/08/2017|   Casey Thomas, II|\n",
      "|04/12/2017| Philip T. Kingston|\n",
      "|04/25/2018|       Adam Medrano|\n",
      "|06/13/2018|   Casey Thomas, II|\n",
      "|05/23/2018|       Adam Medrano|\n",
      "|11/06/2018|Philip T.  Kingston|\n",
      "|06/06/2018|     Tennell Atkins|\n",
      "|03/21/2018|     Sandy  Greyson|\n",
      "|10/26/2016|Carolyn King Arnold|\n",
      "|06/28/2017|    Lee M. Kleinman|\n",
      "|04/26/2017| Philip T. Kingston|\n",
      "|04/26/2017|   B. Adam  McGough|\n",
      "|06/06/2018|    Lee M. Kleinman|\n",
      "|09/05/2018|Philip T.  Kingston|\n",
      "|10/17/2018|    Lee M. Kleinman|\n",
      "|02/27/2019|       Omar Narvaez|\n",
      "|04/12/2017| Rickey D. Callahan|\n",
      "|10/11/2016|   B. Adam  McGough|\n",
      "|08/09/2017|  Dwaine R. Caraway|\n",
      "|09/06/2017|Rickey D.  Callahan|\n",
      "|02/22/2017|      Sandy Greyson|\n",
      "|09/07/2016|   Monica R. Alonzo|\n",
      "|09/12/2018|Michael S. Rawlings|\n",
      "|09/12/2018|       Omar Narvaez|\n",
      "|12/12/2018|      Scott  Griggs|\n",
      "|08/29/2018|       Kevin Felder|\n",
      "|10/17/2018|       Kevin Felder|\n",
      "|06/18/2019|    Casey Thomas II|\n",
      "|09/21/2016|       Mark Clayton|\n",
      "|03/22/2017|       Scott Griggs|\n",
      "|11/09/2016|Carolyn King Arnold|\n",
      "|04/25/2018|     Tennell Atkins|\n",
      "|09/16/2020|Carolyn King Arnold|\n",
      "|08/15/2018|      Mark  Clayton|\n",
      "|12/01/2021|    Casey Thomas II|\n",
      "|02/07/2018|   Casey Thomas, II|\n",
      "|03/22/2017|      Sandy Greyson|\n",
      "|11/22/2016|Carolyn King Arnold|\n",
      "+----------+-------------------+\n",
      "only showing top 40 rows\n",
      "\n"
     ]
    }
   ],
   "source": [
    "voter_df.select(\"DATE\", \"VOTER_NAME\").distinct().show(40)"
   ]
  },
  {
   "cell_type": "markdown",
   "id": "9b61138c",
   "metadata": {},
   "source": [
    "Task:\n",
    "- Add a new column called splits holding the list of possible names.\n",
    "- Use the getItem() method and create a new column called first_name.\n",
    "- Get the last entry of the splits list and create a column called last_name.\n",
    "- Drop the splits column and show the new voter_df."
   ]
  },
  {
   "cell_type": "markdown",
   "id": "13c81e67",
   "metadata": {},
   "source": [
    "**Add a new column called splits holding the list of possible names**"
   ]
  },
  {
   "cell_type": "code",
   "execution_count": 38,
   "id": "32639216",
   "metadata": {},
   "outputs": [],
   "source": [
    "voter_df = voter_df.withColumn(\"Splits\", F.split(\"VOTER_NAME\", \"\\s+\"))"
   ]
  },
  {
   "cell_type": "code",
   "execution_count": 39,
   "id": "b00afc99",
   "metadata": {},
   "outputs": [
    {
     "name": "stdout",
     "output_type": "stream",
     "text": [
      "+----------+-------------------+-----------------------+\n",
      "|DATE      |VOTER_NAME         |Splits                 |\n",
      "+----------+-------------------+-----------------------+\n",
      "|09/16/2020|Chad West          |[Chad, West]           |\n",
      "|09/16/2020|B. Adam McGough    |[B., Adam, McGough]    |\n",
      "|06/24/2020|Carolyn King Arnold|[Carolyn, King, Arnold]|\n",
      "|06/24/2020|Jaime Resendez     |[Jaime, Resendez]      |\n",
      "|06/24/2020|Omar Narvaez       |[Omar, Narvaez]        |\n",
      "|06/24/2020|Adam Bazaldua      |[Adam, Bazaldua]       |\n",
      "|06/24/2020|Tennell Atkins     |[Tennell, Atkins]      |\n",
      "|06/24/2020|Paula Blackmon     |[Paula, Blackmon]      |\n",
      "|06/24/2020|Chad West          |[Chad, West]           |\n",
      "|06/24/2020|B. Adam McGough    |[B., Adam, McGough]    |\n",
      "|06/24/2020|Lee M. Kleinman    |[Lee, M., Kleinman]    |\n",
      "|01/11/2017|Jennifer S. Gates  |[Jennifer, S., Gates]  |\n",
      "|04/25/2018|Sandy  Greyson     |[Sandy, Greyson]       |\n",
      "|04/25/2018|Jennifer S.  Gates |[Jennifer, S., Gates]  |\n",
      "|04/25/2018|Philip T.  Kingston|[Philip, T., Kingston] |\n",
      "|04/25/2018|Michael S. Rawlings|[Michael, S., Rawlings]|\n",
      "|06/24/2020|Cara Mendelsohn    |[Cara, Mendelsohn]     |\n",
      "|06/24/2020|Jennifer S.  Gates |[Jennifer, S., Gates]  |\n",
      "|06/24/2020|David Blewett      |[David, Blewett]       |\n",
      "|04/25/2018|Adam Medrano       |[Adam, Medrano]        |\n",
      "|04/25/2018|Casey Thomas, II   |[Casey, Thomas,, II]   |\n",
      "|04/25/2018|Dwaine R. Caraway  |[Dwaine, R., Caraway]  |\n",
      "|04/25/2018|Rickey D.  Callahan|[Rickey, D., Callahan] |\n",
      "|04/25/2018|Omar Narvaez       |[Omar, Narvaez]        |\n",
      "|04/25/2018|Kevin Felder       |[Kevin, Felder]        |\n",
      "|04/25/2018|Tennell Atkins     |[Tennell, Atkins]      |\n",
      "|04/25/2018|Mark  Clayton      |[Mark, Clayton]        |\n",
      "|01/04/2017|Scott Griggs       |[Scott, Griggs]        |\n",
      "|01/04/2017|B. Adam  McGough   |[B., Adam, McGough]    |\n",
      "|09/16/2020|Lee M. Kleinman    |[Lee, M., Kleinman]    |\n",
      "|09/16/2020|Cara Mendelsohn    |[Cara, Mendelsohn]     |\n",
      "|09/16/2020|Jennifer S.  Gates |[Jennifer, S., Gates]  |\n",
      "|09/16/2020|David Blewett      |[David, Blewett]       |\n",
      "|09/16/2020|Eric Johnson       |[Eric, Johnson]        |\n",
      "|06/20/2018|Philip T.  Kingston|[Philip, T., Kingston] |\n",
      "|06/20/2018|Michael S. Rawlings|[Michael, S., Rawlings]|\n",
      "|06/20/2018|Adam Medrano       |[Adam, Medrano]        |\n",
      "|06/20/2018|Casey Thomas, II   |[Casey, Thomas,, II]   |\n",
      "|06/20/2018|Dwaine R. Caraway  |[Dwaine, R., Caraway]  |\n",
      "|06/20/2018|Rickey D.  Callahan|[Rickey, D., Callahan] |\n",
      "+----------+-------------------+-----------------------+\n",
      "only showing top 40 rows\n",
      "\n"
     ]
    }
   ],
   "source": [
    "voter_df.select(\"DATE\", \"VOTER_NAME\", \"Splits\").show(40, truncate = False)"
   ]
  },
  {
   "cell_type": "markdown",
   "id": "e40107d5",
   "metadata": {},
   "source": [
    "**Use the getItem() method and create a new column called first_name based on the first item in splits**"
   ]
  },
  {
   "cell_type": "code",
   "execution_count": 40,
   "id": "5e519d16",
   "metadata": {},
   "outputs": [
    {
     "name": "stdout",
     "output_type": "stream",
     "text": [
      "+----------+-------------------+-----------------------+----------+\n",
      "|DATE      |VOTER_NAME         |Splits                 |First_name|\n",
      "+----------+-------------------+-----------------------+----------+\n",
      "|09/16/2020|Chad West          |[Chad, West]           |Chad      |\n",
      "|09/16/2020|B. Adam McGough    |[B., Adam, McGough]    |B.        |\n",
      "|06/24/2020|Carolyn King Arnold|[Carolyn, King, Arnold]|Carolyn   |\n",
      "|06/24/2020|Jaime Resendez     |[Jaime, Resendez]      |Jaime     |\n",
      "|06/24/2020|Omar Narvaez       |[Omar, Narvaez]        |Omar      |\n",
      "|06/24/2020|Adam Bazaldua      |[Adam, Bazaldua]       |Adam      |\n",
      "|06/24/2020|Tennell Atkins     |[Tennell, Atkins]      |Tennell   |\n",
      "|06/24/2020|Paula Blackmon     |[Paula, Blackmon]      |Paula     |\n",
      "|06/24/2020|Chad West          |[Chad, West]           |Chad      |\n",
      "|06/24/2020|B. Adam McGough    |[B., Adam, McGough]    |B.        |\n",
      "|06/24/2020|Lee M. Kleinman    |[Lee, M., Kleinman]    |Lee       |\n",
      "|01/11/2017|Jennifer S. Gates  |[Jennifer, S., Gates]  |Jennifer  |\n",
      "|04/25/2018|Sandy  Greyson     |[Sandy, Greyson]       |Sandy     |\n",
      "|04/25/2018|Jennifer S.  Gates |[Jennifer, S., Gates]  |Jennifer  |\n",
      "|04/25/2018|Philip T.  Kingston|[Philip, T., Kingston] |Philip    |\n",
      "|04/25/2018|Michael S. Rawlings|[Michael, S., Rawlings]|Michael   |\n",
      "|06/24/2020|Cara Mendelsohn    |[Cara, Mendelsohn]     |Cara      |\n",
      "|06/24/2020|Jennifer S.  Gates |[Jennifer, S., Gates]  |Jennifer  |\n",
      "|06/24/2020|David Blewett      |[David, Blewett]       |David     |\n",
      "|04/25/2018|Adam Medrano       |[Adam, Medrano]        |Adam      |\n",
      "|04/25/2018|Casey Thomas, II   |[Casey, Thomas,, II]   |Casey     |\n",
      "|04/25/2018|Dwaine R. Caraway  |[Dwaine, R., Caraway]  |Dwaine    |\n",
      "|04/25/2018|Rickey D.  Callahan|[Rickey, D., Callahan] |Rickey    |\n",
      "|04/25/2018|Omar Narvaez       |[Omar, Narvaez]        |Omar      |\n",
      "|04/25/2018|Kevin Felder       |[Kevin, Felder]        |Kevin     |\n",
      "|04/25/2018|Tennell Atkins     |[Tennell, Atkins]      |Tennell   |\n",
      "|04/25/2018|Mark  Clayton      |[Mark, Clayton]        |Mark      |\n",
      "|01/04/2017|Scott Griggs       |[Scott, Griggs]        |Scott     |\n",
      "|01/04/2017|B. Adam  McGough   |[B., Adam, McGough]    |B.        |\n",
      "|09/16/2020|Lee M. Kleinman    |[Lee, M., Kleinman]    |Lee       |\n",
      "+----------+-------------------+-----------------------+----------+\n",
      "only showing top 30 rows\n",
      "\n"
     ]
    }
   ],
   "source": [
    "voter_df = voter_df.withColumn(\"First_name\", voter_df.Splits[0])\n",
    "voter_df.select(\"DATE\", \"VOTER_NAME\", \"Splits\", \"First_name\").show(30, truncate=False)"
   ]
  },
  {
   "cell_type": "markdown",
   "id": "dd91a751",
   "metadata": {},
   "source": [
    "**Get the last entry of the splits list and create a column called last_name.**"
   ]
  },
  {
   "cell_type": "code",
   "execution_count": 41,
   "id": "7c904c6c",
   "metadata": {},
   "outputs": [],
   "source": [
    "# We want to get the last name from the list\n",
    "voter_df = voter_df.withColumn(\"Last_name\", voter_df.Splits[F.size(\"Splits\")-1])"
   ]
  },
  {
   "cell_type": "code",
   "execution_count": 42,
   "id": "6d5901da",
   "metadata": {},
   "outputs": [
    {
     "name": "stdout",
     "output_type": "stream",
     "text": [
      "+----------+-------------------+-----------------------+----------+----------+\n",
      "|DATE      |VOTER_NAME         |Splits                 |First_name|Last_name |\n",
      "+----------+-------------------+-----------------------+----------+----------+\n",
      "|09/16/2020|Chad West          |[Chad, West]           |Chad      |West      |\n",
      "|09/16/2020|B. Adam McGough    |[B., Adam, McGough]    |B.        |McGough   |\n",
      "|06/24/2020|Carolyn King Arnold|[Carolyn, King, Arnold]|Carolyn   |Arnold    |\n",
      "|06/24/2020|Jaime Resendez     |[Jaime, Resendez]      |Jaime     |Resendez  |\n",
      "|06/24/2020|Omar Narvaez       |[Omar, Narvaez]        |Omar      |Narvaez   |\n",
      "|06/24/2020|Adam Bazaldua      |[Adam, Bazaldua]       |Adam      |Bazaldua  |\n",
      "|06/24/2020|Tennell Atkins     |[Tennell, Atkins]      |Tennell   |Atkins    |\n",
      "|06/24/2020|Paula Blackmon     |[Paula, Blackmon]      |Paula     |Blackmon  |\n",
      "|06/24/2020|Chad West          |[Chad, West]           |Chad      |West      |\n",
      "|06/24/2020|B. Adam McGough    |[B., Adam, McGough]    |B.        |McGough   |\n",
      "|06/24/2020|Lee M. Kleinman    |[Lee, M., Kleinman]    |Lee       |Kleinman  |\n",
      "|01/11/2017|Jennifer S. Gates  |[Jennifer, S., Gates]  |Jennifer  |Gates     |\n",
      "|04/25/2018|Sandy  Greyson     |[Sandy, Greyson]       |Sandy     |Greyson   |\n",
      "|04/25/2018|Jennifer S.  Gates |[Jennifer, S., Gates]  |Jennifer  |Gates     |\n",
      "|04/25/2018|Philip T.  Kingston|[Philip, T., Kingston] |Philip    |Kingston  |\n",
      "|04/25/2018|Michael S. Rawlings|[Michael, S., Rawlings]|Michael   |Rawlings  |\n",
      "|06/24/2020|Cara Mendelsohn    |[Cara, Mendelsohn]     |Cara      |Mendelsohn|\n",
      "|06/24/2020|Jennifer S.  Gates |[Jennifer, S., Gates]  |Jennifer  |Gates     |\n",
      "|06/24/2020|David Blewett      |[David, Blewett]       |David     |Blewett   |\n",
      "|04/25/2018|Adam Medrano       |[Adam, Medrano]        |Adam      |Medrano   |\n",
      "+----------+-------------------+-----------------------+----------+----------+\n",
      "only showing top 20 rows\n",
      "\n"
     ]
    }
   ],
   "source": [
    "voter_df.select(\"DATE\", \"VOTER_NAME\", \"Splits\", \"First_name\", \"Last_name\").show(20, truncate=False)"
   ]
  },
  {
   "cell_type": "markdown",
   "id": "b40927ad",
   "metadata": {},
   "source": [
    "**Drop the splits column and show the new voter_df**"
   ]
  },
  {
   "cell_type": "code",
   "execution_count": 43,
   "id": "289846ee",
   "metadata": {
    "scrolled": true
   },
   "outputs": [
    {
     "name": "stdout",
     "output_type": "stream",
     "text": [
      "-RECORD 0-----------------------------------------------------------------------------------------------------------------------------------------------------------------------------------------------------------------------------------------------------------------------------------------------------------------------------------------------------------------------------------------------------------------\n",
      " DATE                    | 09/16/2020                                                                                                                                                                                                                                                                                                                                                                                     \n",
      " AGENDA_ITEM_NUMBER      | 1                                                                                                                                                                                                                                                                                                                                                                                              \n",
      " ITEM_TYPE               | AGENDA                                                                                                                                                                                                                                                                                                                                                                                         \n",
      " DISTRICT                | 1                                                                                                                                                                                                                                                                                                                                                                                              \n",
      " TITLE                   | Councilmember                                                                                                                                                                                                                                                                                                                                                                                  \n",
      " VOTER_NAME              | Chad West                                                                                                                                                                                                                                                                                                                                                                                      \n",
      " VOTE_CAST               | YES                                                                                                                                                                                                                                                                                                                                                                                            \n",
      " FINAL_ACTION_TAKEN      | APPROVED                                                                                                                                                                                                                                                                                                                                                                                       \n",
      " AGENDA_ITEM_DESCRIPTION | Approval of Minutes of the September 2, 2020 City Council Meeting                                                                                                                                                                                                                                                                                                                              \n",
      " AGENDA_ID               | 091620_AG_1                                                                                                                                                                                                                                                                                                                                                                                    \n",
      " VOTE_ID                 | 091620_AG_1_1                                                                                                                                                                                                                                                                                                                                                                                  \n",
      " Splits                  | [Chad, West]                                                                                                                                                                                                                                                                                                                                                                                   \n",
      " First_name              | Chad                                                                                                                                                                                                                                                                                                                                                                                           \n",
      " Last_name               | West                                                                                                                                                                                                                                                                                                                                                                                           \n",
      "-RECORD 1-----------------------------------------------------------------------------------------------------------------------------------------------------------------------------------------------------------------------------------------------------------------------------------------------------------------------------------------------------------------------------------------------------------------\n",
      " DATE                    | 09/16/2020                                                                                                                                                                                                                                                                                                                                                                                     \n",
      " AGENDA_ITEM_NUMBER      | 1                                                                                                                                                                                                                                                                                                                                                                                              \n",
      " ITEM_TYPE               | AGENDA                                                                                                                                                                                                                                                                                                                                                                                         \n",
      " DISTRICT                | 10                                                                                                                                                                                                                                                                                                                                                                                             \n",
      " TITLE                   | Deputy Mayor Pro Tem                                                                                                                                                                                                                                                                                                                                                                           \n",
      " VOTER_NAME              | B. Adam McGough                                                                                                                                                                                                                                                                                                                                                                                \n",
      " VOTE_CAST               | YES                                                                                                                                                                                                                                                                                                                                                                                            \n",
      " FINAL_ACTION_TAKEN      | APPROVED                                                                                                                                                                                                                                                                                                                                                                                       \n",
      " AGENDA_ITEM_DESCRIPTION | Approval of Minutes of the September 2, 2020 City Council Meeting                                                                                                                                                                                                                                                                                                                              \n",
      " AGENDA_ID               | 091620_AG_1                                                                                                                                                                                                                                                                                                                                                                                    \n",
      " VOTE_ID                 | 091620_AG_1_10                                                                                                                                                                                                                                                                                                                                                                                 \n",
      " Splits                  | [B., Adam, McGough]                                                                                                                                                                                                                                                                                                                                                                            \n",
      " First_name              | B.                                                                                                                                                                                                                                                                                                                                                                                             \n",
      " Last_name               | McGough                                                                                                                                                                                                                                                                                                                                                                                        \n",
      "-RECORD 2-----------------------------------------------------------------------------------------------------------------------------------------------------------------------------------------------------------------------------------------------------------------------------------------------------------------------------------------------------------------------------------------------------------------\n",
      " DATE                    | 06/24/2020                                                                                                                                                                                                                                                                                                                                                                                     \n",
      " AGENDA_ITEM_NUMBER      | Z16                                                                                                                                                                                                                                                                                                                                                                                            \n",
      " ITEM_TYPE               | AGENDA                                                                                                                                                                                                                                                                                                                                                                                         \n",
      " DISTRICT                | 4                                                                                                                                                                                                                                                                                                                                                                                              \n",
      " TITLE                   | Councilmember                                                                                                                                                                                                                                                                                                                                                                                  \n",
      " VOTER_NAME              | Carolyn King Arnold                                                                                                                                                                                                                                                                                                                                                                            \n",
      " VOTE_CAST               | YES                                                                                                                                                                                                                                                                                                                                                                                            \n",
      " FINAL_ACTION_TAKEN      | AMENDED                                                                                                                                                                                                                                                                                                                                                                                        \n",
      " AGENDA_ITEM_DESCRIPTION | A public hearing to receive comments regarding an application for and an ordinance granting a Planned Development Subdistrict for mixed uses on property zoned an HC Heavy Commercial Subdistrict within Planned Development District No. 193, the Oak Lawn Special Purpose District, on the northwest line of Woodall Rodgers Freeway, between North St. Paul Street and North Harwood Street \n",
      " AGENDA_ID               | 062420_AG_Z16                                                                                                                                                                                                                                                                                                                                                                                  \n",
      " VOTE_ID                 | 062420_AG_Z16_4                                                                                                                                                                                                                                                                                                                                                                                \n",
      " Splits                  | [Carolyn, King, Arnold]                                                                                                                                                                                                                                                                                                                                                                        \n",
      " First_name              | Carolyn                                                                                                                                                                                                                                                                                                                                                                                        \n",
      " Last_name               | Arnold                                                                                                                                                                                                                                                                                                                                                                                         \n",
      "-RECORD 3-----------------------------------------------------------------------------------------------------------------------------------------------------------------------------------------------------------------------------------------------------------------------------------------------------------------------------------------------------------------------------------------------------------------\n",
      " DATE                    | 06/24/2020                                                                                                                                                                                                                                                                                                                                                                                     \n",
      " AGENDA_ITEM_NUMBER      | Z16                                                                                                                                                                                                                                                                                                                                                                                            \n",
      " ITEM_TYPE               | AGENDA                                                                                                                                                                                                                                                                                                                                                                                         \n",
      " DISTRICT                | 5                                                                                                                                                                                                                                                                                                                                                                                              \n",
      " TITLE                   | Councilmember                                                                                                                                                                                                                                                                                                                                                                                  \n",
      " VOTER_NAME              | Jaime Resendez                                                                                                                                                                                                                                                                                                                                                                                 \n",
      " VOTE_CAST               | YES                                                                                                                                                                                                                                                                                                                                                                                            \n",
      " FINAL_ACTION_TAKEN      | AMENDED                                                                                                                                                                                                                                                                                                                                                                                        \n",
      " AGENDA_ITEM_DESCRIPTION | A public hearing to receive comments regarding an application for and an ordinance granting a Planned Development Subdistrict for mixed uses on property zoned an HC Heavy Commercial Subdistrict within Planned Development District No. 193, the Oak Lawn Special Purpose District, on the northwest line of Woodall Rodgers Freeway, between North St. Paul Street and North Harwood Street \n",
      " AGENDA_ID               | 062420_AG_Z16                                                                                                                                                                                                                                                                                                                                                                                  \n",
      " VOTE_ID                 | 062420_AG_Z16_5                                                                                                                                                                                                                                                                                                                                                                                \n",
      " Splits                  | [Jaime, Resendez]                                                                                                                                                                                                                                                                                                                                                                              \n",
      " First_name              | Jaime                                                                                                                                                                                                                                                                                                                                                                                          \n",
      " Last_name               | Resendez                                                                                                                                                                                                                                                                                                                                                                                       \n",
      "-RECORD 4-----------------------------------------------------------------------------------------------------------------------------------------------------------------------------------------------------------------------------------------------------------------------------------------------------------------------------------------------------------------------------------------------------------------\n",
      " DATE                    | 06/24/2020                                                                                                                                                                                                                                                                                                                                                                                     \n",
      " AGENDA_ITEM_NUMBER      | Z16                                                                                                                                                                                                                                                                                                                                                                                            \n",
      " ITEM_TYPE               | AGENDA                                                                                                                                                                                                                                                                                                                                                                                         \n",
      " DISTRICT                | 6                                                                                                                                                                                                                                                                                                                                                                                              \n",
      " TITLE                   | Councilmember                                                                                                                                                                                                                                                                                                                                                                                  \n",
      " VOTER_NAME              | Omar Narvaez                                                                                                                                                                                                                                                                                                                                                                                   \n",
      " VOTE_CAST               | YES                                                                                                                                                                                                                                                                                                                                                                                            \n",
      " FINAL_ACTION_TAKEN      | AMENDED                                                                                                                                                                                                                                                                                                                                                                                        \n",
      " AGENDA_ITEM_DESCRIPTION | A public hearing to receive comments regarding an application for and an ordinance granting a Planned Development Subdistrict for mixed uses on property zoned an HC Heavy Commercial Subdistrict within Planned Development District No. 193, the Oak Lawn Special Purpose District, on the northwest line of Woodall Rodgers Freeway, between North St. Paul Street and North Harwood Street \n",
      " AGENDA_ID               | 062420_AG_Z16                                                                                                                                                                                                                                                                                                                                                                                  \n",
      " VOTE_ID                 | 062420_AG_Z16_6                                                                                                                                                                                                                                                                                                                                                                                \n",
      " Splits                  | [Omar, Narvaez]                                                                                                                                                                                                                                                                                                                                                                                \n",
      " First_name              | Omar                                                                                                                                                                                                                                                                                                                                                                                           \n",
      " Last_name               | Narvaez                                                                                                                                                                                                                                                                                                                                                                                        \n",
      "-RECORD 5-----------------------------------------------------------------------------------------------------------------------------------------------------------------------------------------------------------------------------------------------------------------------------------------------------------------------------------------------------------------------------------------------------------------\n",
      " DATE                    | 06/24/2020                                                                                                                                                                                                                                                                                                                                                                                     \n",
      " AGENDA_ITEM_NUMBER      | Z16                                                                                                                                                                                                                                                                                                                                                                                            \n",
      " ITEM_TYPE               | AGENDA                                                                                                                                                                                                                                                                                                                                                                                         \n",
      " DISTRICT                | 7                                                                                                                                                                                                                                                                                                                                                                                              \n",
      " TITLE                   | Councilmember                                                                                                                                                                                                                                                                                                                                                                                  \n",
      " VOTER_NAME              | Adam Bazaldua                                                                                                                                                                                                                                                                                                                                                                                  \n",
      " VOTE_CAST               | YES                                                                                                                                                                                                                                                                                                                                                                                            \n",
      " FINAL_ACTION_TAKEN      | AMENDED                                                                                                                                                                                                                                                                                                                                                                                        \n",
      " AGENDA_ITEM_DESCRIPTION | A public hearing to receive comments regarding an application for and an ordinance granting a Planned Development Subdistrict for mixed uses on property zoned an HC Heavy Commercial Subdistrict within Planned Development District No. 193, the Oak Lawn Special Purpose District, on the northwest line of Woodall Rodgers Freeway, between North St. Paul Street and North Harwood Street \n",
      " AGENDA_ID               | 062420_AG_Z16                                                                                                                                                                                                                                                                                                                                                                                  \n",
      " VOTE_ID                 | 062420_AG_Z16_7                                                                                                                                                                                                                                                                                                                                                                                \n",
      " Splits                  | [Adam, Bazaldua]                                                                                                                                                                                                                                                                                                                                                                               \n",
      " First_name              | Adam                                                                                                                                                                                                                                                                                                                                                                                           \n",
      " Last_name               | Bazaldua                                                                                                                                                                                                                                                                                                                                                                                       \n",
      "-RECORD 6-----------------------------------------------------------------------------------------------------------------------------------------------------------------------------------------------------------------------------------------------------------------------------------------------------------------------------------------------------------------------------------------------------------------\n",
      " DATE                    | 06/24/2020                                                                                                                                                                                                                                                                                                                                                                                     \n",
      " AGENDA_ITEM_NUMBER      | Z16                                                                                                                                                                                                                                                                                                                                                                                            \n",
      " ITEM_TYPE               | AGENDA                                                                                                                                                                                                                                                                                                                                                                                         \n",
      " DISTRICT                | 8                                                                                                                                                                                                                                                                                                                                                                                              \n",
      " TITLE                   | Councilmember                                                                                                                                                                                                                                                                                                                                                                                  \n",
      " VOTER_NAME              | Tennell Atkins                                                                                                                                                                                                                                                                                                                                                                                 \n",
      " VOTE_CAST               | YES                                                                                                                                                                                                                                                                                                                                                                                            \n",
      " FINAL_ACTION_TAKEN      | AMENDED                                                                                                                                                                                                                                                                                                                                                                                        \n",
      " AGENDA_ITEM_DESCRIPTION | A public hearing to receive comments regarding an application for and an ordinance granting a Planned Development Subdistrict for mixed uses on property zoned an HC Heavy Commercial Subdistrict within Planned Development District No. 193, the Oak Lawn Special Purpose District, on the northwest line of Woodall Rodgers Freeway, between North St. Paul Street and North Harwood Street \n",
      " AGENDA_ID               | 062420_AG_Z16                                                                                                                                                                                                                                                                                                                                                                                  \n",
      " VOTE_ID                 | 062420_AG_Z16_8                                                                                                                                                                                                                                                                                                                                                                                \n",
      " Splits                  | [Tennell, Atkins]                                                                                                                                                                                                                                                                                                                                                                              \n",
      " First_name              | Tennell                                                                                                                                                                                                                                                                                                                                                                                        \n",
      " Last_name               | Atkins                                                                                                                                                                                                                                                                                                                                                                                         \n",
      "-RECORD 7-----------------------------------------------------------------------------------------------------------------------------------------------------------------------------------------------------------------------------------------------------------------------------------------------------------------------------------------------------------------------------------------------------------------\n",
      " DATE                    | 06/24/2020                                                                                                                                                                                                                                                                                                                                                                                     \n",
      " AGENDA_ITEM_NUMBER      | Z16                                                                                                                                                                                                                                                                                                                                                                                            \n",
      " ITEM_TYPE               | AGENDA                                                                                                                                                                                                                                                                                                                                                                                         \n",
      " DISTRICT                | 9                                                                                                                                                                                                                                                                                                                                                                                              \n",
      " TITLE                   | Councilmember                                                                                                                                                                                                                                                                                                                                                                                  \n",
      " VOTER_NAME              | Paula Blackmon                                                                                                                                                                                                                                                                                                                                                                                 \n",
      " VOTE_CAST               | YES                                                                                                                                                                                                                                                                                                                                                                                            \n",
      " FINAL_ACTION_TAKEN      | AMENDED                                                                                                                                                                                                                                                                                                                                                                                        \n",
      " AGENDA_ITEM_DESCRIPTION | A public hearing to receive comments regarding an application for and an ordinance granting a Planned Development Subdistrict for mixed uses on property zoned an HC Heavy Commercial Subdistrict within Planned Development District No. 193, the Oak Lawn Special Purpose District, on the northwest line of Woodall Rodgers Freeway, between North St. Paul Street and North Harwood Street \n",
      " AGENDA_ID               | 062420_AG_Z16                                                                                                                                                                                                                                                                                                                                                                                  \n",
      " VOTE_ID                 | 062420_AG_Z16_9                                                                                                                                                                                                                                                                                                                                                                                \n",
      " Splits                  | [Paula, Blackmon]                                                                                                                                                                                                                                                                                                                                                                              \n",
      " First_name              | Paula                                                                                                                                                                                                                                                                                                                                                                                          \n",
      " Last_name               | Blackmon                                                                                                                                                                                                                                                                                                                                                                                       \n",
      "-RECORD 8-----------------------------------------------------------------------------------------------------------------------------------------------------------------------------------------------------------------------------------------------------------------------------------------------------------------------------------------------------------------------------------------------------------------\n",
      " DATE                    | 06/24/2020                                                                                                                                                                                                                                                                                                                                                                                     \n",
      " AGENDA_ITEM_NUMBER      | Z17                                                                                                                                                                                                                                                                                                                                                                                            \n",
      " ITEM_TYPE               | AGENDA                                                                                                                                                                                                                                                                                                                                                                                         \n",
      " DISTRICT                | 1                                                                                                                                                                                                                                                                                                                                                                                              \n",
      " TITLE                   | Councilmember                                                                                                                                                                                                                                                                                                                                                                                  \n",
      " VOTER_NAME              | Chad West                                                                                                                                                                                                                                                                                                                                                                                      \n",
      " VOTE_CAST               | YES                                                                                                                                                                                                                                                                                                                                                                                            \n",
      " FINAL_ACTION_TAKEN      | DENIED WITH PREJUDICE                                                                                                                                                                                                                                                                                                                                                                          \n",
      " AGENDA_ITEM_DESCRIPTION | A public hearing to receive comments regarding an application for and  an  ordinance granting a  Specific  Use  Permit  for  a  handicapped  group  dwelling  unit  use  on  property  zoned  an  R-7.5(A)  Single  Family  District,  at  the  terminus of Maceo Circle Drive,  south  of  Magna  Vista  Drive  and  west  of  Scenic Circle                                                  \n",
      " AGENDA_ID               | 062420_AG_Z17                                                                                                                                                                                                                                                                                                                                                                                  \n",
      " VOTE_ID                 | 062420_AG_Z17_1                                                                                                                                                                                                                                                                                                                                                                                \n",
      " Splits                  | [Chad, West]                                                                                                                                                                                                                                                                                                                                                                                   \n",
      " First_name              | Chad                                                                                                                                                                                                                                                                                                                                                                                           \n",
      " Last_name               | West                                                                                                                                                                                                                                                                                                                                                                                           \n",
      "-RECORD 9-----------------------------------------------------------------------------------------------------------------------------------------------------------------------------------------------------------------------------------------------------------------------------------------------------------------------------------------------------------------------------------------------------------------\n",
      " DATE                    | 06/24/2020                                                                                                                                                                                                                                                                                                                                                                                     \n",
      " AGENDA_ITEM_NUMBER      | Z17                                                                                                                                                                                                                                                                                                                                                                                            \n",
      " ITEM_TYPE               | AGENDA                                                                                                                                                                                                                                                                                                                                                                                         \n",
      " DISTRICT                | 10                                                                                                                                                                                                                                                                                                                                                                                             \n",
      " TITLE                   | Deputy Mayor Pro Tem                                                                                                                                                                                                                                                                                                                                                                           \n",
      " VOTER_NAME              | B. Adam McGough                                                                                                                                                                                                                                                                                                                                                                                \n",
      " VOTE_CAST               | YES                                                                                                                                                                                                                                                                                                                                                                                            \n",
      " FINAL_ACTION_TAKEN      | DENIED WITH PREJUDICE                                                                                                                                                                                                                                                                                                                                                                          \n",
      " AGENDA_ITEM_DESCRIPTION | A public hearing to receive comments regarding an application for and  an  ordinance granting a  Specific  Use  Permit  for  a  handicapped  group  dwelling  unit  use  on  property  zoned  an  R-7.5(A)  Single  Family  District,  at  the  terminus of Maceo Circle Drive,  south  of  Magna  Vista  Drive  and  west  of  Scenic Circle                                                  \n",
      " AGENDA_ID               | 062420_AG_Z17                                                                                                                                                                                                                                                                                                                                                                                  \n",
      " VOTE_ID                 | 062420_AG_Z17_10                                                                                                                                                                                                                                                                                                                                                                               \n",
      " Splits                  | [B., Adam, McGough]                                                                                                                                                                                                                                                                                                                                                                            \n",
      " First_name              | B.                                                                                                                                                                                                                                                                                                                                                                                             \n",
      " Last_name               | McGough                                                                                                                                                                                                                                                                                                                                                                                        \n",
      "only showing top 10 rows\n",
      "\n"
     ]
    }
   ],
   "source": [
    "voter_df.show(10, truncate=False, vertical=True)"
   ]
  },
  {
   "cell_type": "markdown",
   "id": "23d44cd0",
   "metadata": {},
   "source": [
    "Task:\n",
    "- Add a column to voter_df named random_val with the results of the F.rand() method for any voter with the title Councilmember.\n",
    "- Show some of the DataFrame rows, noting whether the .when() clause worked."
   ]
  },
  {
   "cell_type": "markdown",
   "id": "c5991d16",
   "metadata": {},
   "source": [
    "**Add a column to voter_df named random_val with the results of the F.rand() method for any voter with the title Councilmember**"
   ]
  },
  {
   "cell_type": "code",
   "execution_count": 44,
   "id": "60d58a40",
   "metadata": {},
   "outputs": [],
   "source": [
    "# Assign random numbers to persons with the title \"Councilmember\"\n",
    "voter_df = voter_df.withColumn(\"random_val\", F.when(voter_df.TITLE == \"Councilmember\", F.rand()))"
   ]
  },
  {
   "cell_type": "markdown",
   "id": "533da824",
   "metadata": {},
   "source": [
    "**Show some of the DataFrame rows, noting whether the .when() clause worked**"
   ]
  },
  {
   "cell_type": "code",
   "execution_count": 45,
   "id": "4c22066f",
   "metadata": {},
   "outputs": [
    {
     "name": "stdout",
     "output_type": "stream",
     "text": [
      "-RECORD 0-----------------------------------------------------------------------------------------------------------------------------------------------------------------------------------------------------------------------------------------------------------------------------------------------------------------------------------------------------------------------------------------------------------------\n",
      " DATE                    | 09/16/2020                                                                                                                                                                                                                                                                                                                                                                                     \n",
      " AGENDA_ITEM_NUMBER      | 1                                                                                                                                                                                                                                                                                                                                                                                              \n",
      " ITEM_TYPE               | AGENDA                                                                                                                                                                                                                                                                                                                                                                                         \n",
      " DISTRICT                | 1                                                                                                                                                                                                                                                                                                                                                                                              \n",
      " TITLE                   | Councilmember                                                                                                                                                                                                                                                                                                                                                                                  \n",
      " VOTER_NAME              | Chad West                                                                                                                                                                                                                                                                                                                                                                                      \n",
      " VOTE_CAST               | YES                                                                                                                                                                                                                                                                                                                                                                                            \n",
      " FINAL_ACTION_TAKEN      | APPROVED                                                                                                                                                                                                                                                                                                                                                                                       \n",
      " AGENDA_ITEM_DESCRIPTION | Approval of Minutes of the September 2, 2020 City Council Meeting                                                                                                                                                                                                                                                                                                                              \n",
      " AGENDA_ID               | 091620_AG_1                                                                                                                                                                                                                                                                                                                                                                                    \n",
      " VOTE_ID                 | 091620_AG_1_1                                                                                                                                                                                                                                                                                                                                                                                  \n",
      " Splits                  | [Chad, West]                                                                                                                                                                                                                                                                                                                                                                                   \n",
      " First_name              | Chad                                                                                                                                                                                                                                                                                                                                                                                           \n",
      " Last_name               | West                                                                                                                                                                                                                                                                                                                                                                                           \n",
      " random_val              | 0.21176419732741236                                                                                                                                                                                                                                                                                                                                                                            \n",
      "-RECORD 1-----------------------------------------------------------------------------------------------------------------------------------------------------------------------------------------------------------------------------------------------------------------------------------------------------------------------------------------------------------------------------------------------------------------\n",
      " DATE                    | 09/16/2020                                                                                                                                                                                                                                                                                                                                                                                     \n",
      " AGENDA_ITEM_NUMBER      | 1                                                                                                                                                                                                                                                                                                                                                                                              \n",
      " ITEM_TYPE               | AGENDA                                                                                                                                                                                                                                                                                                                                                                                         \n",
      " DISTRICT                | 10                                                                                                                                                                                                                                                                                                                                                                                             \n",
      " TITLE                   | Deputy Mayor Pro Tem                                                                                                                                                                                                                                                                                                                                                                           \n",
      " VOTER_NAME              | B. Adam McGough                                                                                                                                                                                                                                                                                                                                                                                \n",
      " VOTE_CAST               | YES                                                                                                                                                                                                                                                                                                                                                                                            \n",
      " FINAL_ACTION_TAKEN      | APPROVED                                                                                                                                                                                                                                                                                                                                                                                       \n",
      " AGENDA_ITEM_DESCRIPTION | Approval of Minutes of the September 2, 2020 City Council Meeting                                                                                                                                                                                                                                                                                                                              \n",
      " AGENDA_ID               | 091620_AG_1                                                                                                                                                                                                                                                                                                                                                                                    \n",
      " VOTE_ID                 | 091620_AG_1_10                                                                                                                                                                                                                                                                                                                                                                                 \n",
      " Splits                  | [B., Adam, McGough]                                                                                                                                                                                                                                                                                                                                                                            \n",
      " First_name              | B.                                                                                                                                                                                                                                                                                                                                                                                             \n",
      " Last_name               | McGough                                                                                                                                                                                                                                                                                                                                                                                        \n",
      " random_val              | null                                                                                                                                                                                                                                                                                                                                                                                           \n",
      "-RECORD 2-----------------------------------------------------------------------------------------------------------------------------------------------------------------------------------------------------------------------------------------------------------------------------------------------------------------------------------------------------------------------------------------------------------------\n",
      " DATE                    | 06/24/2020                                                                                                                                                                                                                                                                                                                                                                                     \n",
      " AGENDA_ITEM_NUMBER      | Z16                                                                                                                                                                                                                                                                                                                                                                                            \n",
      " ITEM_TYPE               | AGENDA                                                                                                                                                                                                                                                                                                                                                                                         \n",
      " DISTRICT                | 4                                                                                                                                                                                                                                                                                                                                                                                              \n",
      " TITLE                   | Councilmember                                                                                                                                                                                                                                                                                                                                                                                  \n",
      " VOTER_NAME              | Carolyn King Arnold                                                                                                                                                                                                                                                                                                                                                                            \n",
      " VOTE_CAST               | YES                                                                                                                                                                                                                                                                                                                                                                                            \n",
      " FINAL_ACTION_TAKEN      | AMENDED                                                                                                                                                                                                                                                                                                                                                                                        \n",
      " AGENDA_ITEM_DESCRIPTION | A public hearing to receive comments regarding an application for and an ordinance granting a Planned Development Subdistrict for mixed uses on property zoned an HC Heavy Commercial Subdistrict within Planned Development District No. 193, the Oak Lawn Special Purpose District, on the northwest line of Woodall Rodgers Freeway, between North St. Paul Street and North Harwood Street \n",
      " AGENDA_ID               | 062420_AG_Z16                                                                                                                                                                                                                                                                                                                                                                                  \n",
      " VOTE_ID                 | 062420_AG_Z16_4                                                                                                                                                                                                                                                                                                                                                                                \n",
      " Splits                  | [Carolyn, King, Arnold]                                                                                                                                                                                                                                                                                                                                                                        \n",
      " First_name              | Carolyn                                                                                                                                                                                                                                                                                                                                                                                        \n",
      " Last_name               | Arnold                                                                                                                                                                                                                                                                                                                                                                                         \n",
      " random_val              | 0.955899029326079                                                                                                                                                                                                                                                                                                                                                                              \n",
      "-RECORD 3-----------------------------------------------------------------------------------------------------------------------------------------------------------------------------------------------------------------------------------------------------------------------------------------------------------------------------------------------------------------------------------------------------------------\n",
      " DATE                    | 06/24/2020                                                                                                                                                                                                                                                                                                                                                                                     \n",
      " AGENDA_ITEM_NUMBER      | Z16                                                                                                                                                                                                                                                                                                                                                                                            \n",
      " ITEM_TYPE               | AGENDA                                                                                                                                                                                                                                                                                                                                                                                         \n",
      " DISTRICT                | 5                                                                                                                                                                                                                                                                                                                                                                                              \n",
      " TITLE                   | Councilmember                                                                                                                                                                                                                                                                                                                                                                                  \n",
      " VOTER_NAME              | Jaime Resendez                                                                                                                                                                                                                                                                                                                                                                                 \n",
      " VOTE_CAST               | YES                                                                                                                                                                                                                                                                                                                                                                                            \n",
      " FINAL_ACTION_TAKEN      | AMENDED                                                                                                                                                                                                                                                                                                                                                                                        \n",
      " AGENDA_ITEM_DESCRIPTION | A public hearing to receive comments regarding an application for and an ordinance granting a Planned Development Subdistrict for mixed uses on property zoned an HC Heavy Commercial Subdistrict within Planned Development District No. 193, the Oak Lawn Special Purpose District, on the northwest line of Woodall Rodgers Freeway, between North St. Paul Street and North Harwood Street \n",
      " AGENDA_ID               | 062420_AG_Z16                                                                                                                                                                                                                                                                                                                                                                                  \n",
      " VOTE_ID                 | 062420_AG_Z16_5                                                                                                                                                                                                                                                                                                                                                                                \n",
      " Splits                  | [Jaime, Resendez]                                                                                                                                                                                                                                                                                                                                                                              \n",
      " First_name              | Jaime                                                                                                                                                                                                                                                                                                                                                                                          \n",
      " Last_name               | Resendez                                                                                                                                                                                                                                                                                                                                                                                       \n",
      " random_val              | 0.5318050853734972                                                                                                                                                                                                                                                                                                                                                                             \n",
      "-RECORD 4-----------------------------------------------------------------------------------------------------------------------------------------------------------------------------------------------------------------------------------------------------------------------------------------------------------------------------------------------------------------------------------------------------------------\n",
      " DATE                    | 06/24/2020                                                                                                                                                                                                                                                                                                                                                                                     \n",
      " AGENDA_ITEM_NUMBER      | Z16                                                                                                                                                                                                                                                                                                                                                                                            \n",
      " ITEM_TYPE               | AGENDA                                                                                                                                                                                                                                                                                                                                                                                         \n",
      " DISTRICT                | 6                                                                                                                                                                                                                                                                                                                                                                                              \n",
      " TITLE                   | Councilmember                                                                                                                                                                                                                                                                                                                                                                                  \n",
      " VOTER_NAME              | Omar Narvaez                                                                                                                                                                                                                                                                                                                                                                                   \n",
      " VOTE_CAST               | YES                                                                                                                                                                                                                                                                                                                                                                                            \n",
      " FINAL_ACTION_TAKEN      | AMENDED                                                                                                                                                                                                                                                                                                                                                                                        \n",
      " AGENDA_ITEM_DESCRIPTION | A public hearing to receive comments regarding an application for and an ordinance granting a Planned Development Subdistrict for mixed uses on property zoned an HC Heavy Commercial Subdistrict within Planned Development District No. 193, the Oak Lawn Special Purpose District, on the northwest line of Woodall Rodgers Freeway, between North St. Paul Street and North Harwood Street \n",
      " AGENDA_ID               | 062420_AG_Z16                                                                                                                                                                                                                                                                                                                                                                                  \n",
      " VOTE_ID                 | 062420_AG_Z16_6                                                                                                                                                                                                                                                                                                                                                                                \n",
      " Splits                  | [Omar, Narvaez]                                                                                                                                                                                                                                                                                                                                                                                \n",
      " First_name              | Omar                                                                                                                                                                                                                                                                                                                                                                                           \n",
      " Last_name               | Narvaez                                                                                                                                                                                                                                                                                                                                                                                        \n",
      " random_val              | 0.0669947142255296                                                                                                                                                                                                                                                                                                                                                                             \n",
      "only showing top 5 rows\n",
      "\n"
     ]
    }
   ],
   "source": [
    "voter_df.show(5, truncate=False, vertical=True)"
   ]
  },
  {
   "cell_type": "markdown",
   "id": "2815e376",
   "metadata": {},
   "source": [
    "Task:\n",
    "- Add a column to voter_df named random_val with the results of the F.rand() method for any voter with the title `Councilmember`. Set random_val to 2 for the `Mayor`. Set any other title to the value 0.\n",
    "- Show some of the Data Frame rows, noting whether the clauses worked.\n",
    "- Use the .filter clause to find 0 in random_val."
   ]
  },
  {
   "cell_type": "markdown",
   "id": "9f474122",
   "metadata": {},
   "source": [
    "**Add a column to voter_df named random_val with the results of the F.rand() method for any voter with the title `Councilmember`. Set random_val to 2 for the `Mayor`. Set any other title to the value 0**"
   ]
  },
  {
   "cell_type": "code",
   "execution_count": 46,
   "id": "eaa7426f",
   "metadata": {},
   "outputs": [],
   "source": [
    "# Same as if, elif, else\n",
    "voter_df = voter_df.withColumn(\"random_val\",(F.when(voter_df.TITLE == \"Councilmember\", F.rand())\n",
    "                                             .when(voter_df.TITLE == \"Mayor\", 2)\n",
    "                                             .otherwise(0)))"
   ]
  },
  {
   "cell_type": "markdown",
   "id": "83c3f302",
   "metadata": {},
   "source": [
    "**Show some of the Data Frame rows, noting whether the clauses worked**"
   ]
  },
  {
   "cell_type": "code",
   "execution_count": 47,
   "id": "440e95a8",
   "metadata": {},
   "outputs": [
    {
     "name": "stdout",
     "output_type": "stream",
     "text": [
      "-RECORD 0-----------------------------------------------------------------------------------------------------------------------------------------------------------------------------------------------------------------------------------------------------------------------------------------------------------------------------------------------------------------------------------------------------------------\n",
      " DATE                    | 09/16/2020                                                                                                                                                                                                                                                                                                                                                                                     \n",
      " AGENDA_ITEM_NUMBER      | 1                                                                                                                                                                                                                                                                                                                                                                                              \n",
      " ITEM_TYPE               | AGENDA                                                                                                                                                                                                                                                                                                                                                                                         \n",
      " DISTRICT                | 1                                                                                                                                                                                                                                                                                                                                                                                              \n",
      " TITLE                   | Councilmember                                                                                                                                                                                                                                                                                                                                                                                  \n",
      " VOTER_NAME              | Chad West                                                                                                                                                                                                                                                                                                                                                                                      \n",
      " VOTE_CAST               | YES                                                                                                                                                                                                                                                                                                                                                                                            \n",
      " FINAL_ACTION_TAKEN      | APPROVED                                                                                                                                                                                                                                                                                                                                                                                       \n",
      " AGENDA_ITEM_DESCRIPTION | Approval of Minutes of the September 2, 2020 City Council Meeting                                                                                                                                                                                                                                                                                                                              \n",
      " AGENDA_ID               | 091620_AG_1                                                                                                                                                                                                                                                                                                                                                                                    \n",
      " VOTE_ID                 | 091620_AG_1_1                                                                                                                                                                                                                                                                                                                                                                                  \n",
      " Splits                  | [Chad, West]                                                                                                                                                                                                                                                                                                                                                                                   \n",
      " First_name              | Chad                                                                                                                                                                                                                                                                                                                                                                                           \n",
      " Last_name               | West                                                                                                                                                                                                                                                                                                                                                                                           \n",
      " random_val              | 0.4930763323269066                                                                                                                                                                                                                                                                                                                                                                             \n",
      "-RECORD 1-----------------------------------------------------------------------------------------------------------------------------------------------------------------------------------------------------------------------------------------------------------------------------------------------------------------------------------------------------------------------------------------------------------------\n",
      " DATE                    | 09/16/2020                                                                                                                                                                                                                                                                                                                                                                                     \n",
      " AGENDA_ITEM_NUMBER      | 1                                                                                                                                                                                                                                                                                                                                                                                              \n",
      " ITEM_TYPE               | AGENDA                                                                                                                                                                                                                                                                                                                                                                                         \n",
      " DISTRICT                | 10                                                                                                                                                                                                                                                                                                                                                                                             \n",
      " TITLE                   | Deputy Mayor Pro Tem                                                                                                                                                                                                                                                                                                                                                                           \n",
      " VOTER_NAME              | B. Adam McGough                                                                                                                                                                                                                                                                                                                                                                                \n",
      " VOTE_CAST               | YES                                                                                                                                                                                                                                                                                                                                                                                            \n",
      " FINAL_ACTION_TAKEN      | APPROVED                                                                                                                                                                                                                                                                                                                                                                                       \n",
      " AGENDA_ITEM_DESCRIPTION | Approval of Minutes of the September 2, 2020 City Council Meeting                                                                                                                                                                                                                                                                                                                              \n",
      " AGENDA_ID               | 091620_AG_1                                                                                                                                                                                                                                                                                                                                                                                    \n",
      " VOTE_ID                 | 091620_AG_1_10                                                                                                                                                                                                                                                                                                                                                                                 \n",
      " Splits                  | [B., Adam, McGough]                                                                                                                                                                                                                                                                                                                                                                            \n",
      " First_name              | B.                                                                                                                                                                                                                                                                                                                                                                                             \n",
      " Last_name               | McGough                                                                                                                                                                                                                                                                                                                                                                                        \n",
      " random_val              | 0.0                                                                                                                                                                                                                                                                                                                                                                                            \n",
      "-RECORD 2-----------------------------------------------------------------------------------------------------------------------------------------------------------------------------------------------------------------------------------------------------------------------------------------------------------------------------------------------------------------------------------------------------------------\n",
      " DATE                    | 06/24/2020                                                                                                                                                                                                                                                                                                                                                                                     \n",
      " AGENDA_ITEM_NUMBER      | Z16                                                                                                                                                                                                                                                                                                                                                                                            \n",
      " ITEM_TYPE               | AGENDA                                                                                                                                                                                                                                                                                                                                                                                         \n",
      " DISTRICT                | 4                                                                                                                                                                                                                                                                                                                                                                                              \n",
      " TITLE                   | Councilmember                                                                                                                                                                                                                                                                                                                                                                                  \n",
      " VOTER_NAME              | Carolyn King Arnold                                                                                                                                                                                                                                                                                                                                                                            \n",
      " VOTE_CAST               | YES                                                                                                                                                                                                                                                                                                                                                                                            \n",
      " FINAL_ACTION_TAKEN      | AMENDED                                                                                                                                                                                                                                                                                                                                                                                        \n",
      " AGENDA_ITEM_DESCRIPTION | A public hearing to receive comments regarding an application for and an ordinance granting a Planned Development Subdistrict for mixed uses on property zoned an HC Heavy Commercial Subdistrict within Planned Development District No. 193, the Oak Lawn Special Purpose District, on the northwest line of Woodall Rodgers Freeway, between North St. Paul Street and North Harwood Street \n",
      " AGENDA_ID               | 062420_AG_Z16                                                                                                                                                                                                                                                                                                                                                                                  \n",
      " VOTE_ID                 | 062420_AG_Z16_4                                                                                                                                                                                                                                                                                                                                                                                \n",
      " Splits                  | [Carolyn, King, Arnold]                                                                                                                                                                                                                                                                                                                                                                        \n",
      " First_name              | Carolyn                                                                                                                                                                                                                                                                                                                                                                                        \n",
      " Last_name               | Arnold                                                                                                                                                                                                                                                                                                                                                                                         \n",
      " random_val              | 0.3094166139425888                                                                                                                                                                                                                                                                                                                                                                             \n",
      "-RECORD 3-----------------------------------------------------------------------------------------------------------------------------------------------------------------------------------------------------------------------------------------------------------------------------------------------------------------------------------------------------------------------------------------------------------------\n",
      " DATE                    | 06/24/2020                                                                                                                                                                                                                                                                                                                                                                                     \n",
      " AGENDA_ITEM_NUMBER      | Z16                                                                                                                                                                                                                                                                                                                                                                                            \n",
      " ITEM_TYPE               | AGENDA                                                                                                                                                                                                                                                                                                                                                                                         \n",
      " DISTRICT                | 5                                                                                                                                                                                                                                                                                                                                                                                              \n",
      " TITLE                   | Councilmember                                                                                                                                                                                                                                                                                                                                                                                  \n",
      " VOTER_NAME              | Jaime Resendez                                                                                                                                                                                                                                                                                                                                                                                 \n",
      " VOTE_CAST               | YES                                                                                                                                                                                                                                                                                                                                                                                            \n",
      " FINAL_ACTION_TAKEN      | AMENDED                                                                                                                                                                                                                                                                                                                                                                                        \n",
      " AGENDA_ITEM_DESCRIPTION | A public hearing to receive comments regarding an application for and an ordinance granting a Planned Development Subdistrict for mixed uses on property zoned an HC Heavy Commercial Subdistrict within Planned Development District No. 193, the Oak Lawn Special Purpose District, on the northwest line of Woodall Rodgers Freeway, between North St. Paul Street and North Harwood Street \n",
      " AGENDA_ID               | 062420_AG_Z16                                                                                                                                                                                                                                                                                                                                                                                  \n",
      " VOTE_ID                 | 062420_AG_Z16_5                                                                                                                                                                                                                                                                                                                                                                                \n",
      " Splits                  | [Jaime, Resendez]                                                                                                                                                                                                                                                                                                                                                                              \n",
      " First_name              | Jaime                                                                                                                                                                                                                                                                                                                                                                                          \n",
      " Last_name               | Resendez                                                                                                                                                                                                                                                                                                                                                                                       \n",
      " random_val              | 0.2004447748316167                                                                                                                                                                                                                                                                                                                                                                             \n",
      "-RECORD 4-----------------------------------------------------------------------------------------------------------------------------------------------------------------------------------------------------------------------------------------------------------------------------------------------------------------------------------------------------------------------------------------------------------------\n",
      " DATE                    | 06/24/2020                                                                                                                                                                                                                                                                                                                                                                                     \n",
      " AGENDA_ITEM_NUMBER      | Z16                                                                                                                                                                                                                                                                                                                                                                                            \n",
      " ITEM_TYPE               | AGENDA                                                                                                                                                                                                                                                                                                                                                                                         \n",
      " DISTRICT                | 6                                                                                                                                                                                                                                                                                                                                                                                              \n",
      " TITLE                   | Councilmember                                                                                                                                                                                                                                                                                                                                                                                  \n",
      " VOTER_NAME              | Omar Narvaez                                                                                                                                                                                                                                                                                                                                                                                   \n",
      " VOTE_CAST               | YES                                                                                                                                                                                                                                                                                                                                                                                            \n",
      " FINAL_ACTION_TAKEN      | AMENDED                                                                                                                                                                                                                                                                                                                                                                                        \n",
      " AGENDA_ITEM_DESCRIPTION | A public hearing to receive comments regarding an application for and an ordinance granting a Planned Development Subdistrict for mixed uses on property zoned an HC Heavy Commercial Subdistrict within Planned Development District No. 193, the Oak Lawn Special Purpose District, on the northwest line of Woodall Rodgers Freeway, between North St. Paul Street and North Harwood Street \n",
      " AGENDA_ID               | 062420_AG_Z16                                                                                                                                                                                                                                                                                                                                                                                  \n",
      " VOTE_ID                 | 062420_AG_Z16_6                                                                                                                                                                                                                                                                                                                                                                                \n",
      " Splits                  | [Omar, Narvaez]                                                                                                                                                                                                                                                                                                                                                                                \n",
      " First_name              | Omar                                                                                                                                                                                                                                                                                                                                                                                           \n",
      " Last_name               | Narvaez                                                                                                                                                                                                                                                                                                                                                                                        \n",
      " random_val              | 0.7977473300409693                                                                                                                                                                                                                                                                                                                                                                             \n",
      "-RECORD 5-----------------------------------------------------------------------------------------------------------------------------------------------------------------------------------------------------------------------------------------------------------------------------------------------------------------------------------------------------------------------------------------------------------------\n",
      " DATE                    | 06/24/2020                                                                                                                                                                                                                                                                                                                                                                                     \n",
      " AGENDA_ITEM_NUMBER      | Z16                                                                                                                                                                                                                                                                                                                                                                                            \n",
      " ITEM_TYPE               | AGENDA                                                                                                                                                                                                                                                                                                                                                                                         \n",
      " DISTRICT                | 7                                                                                                                                                                                                                                                                                                                                                                                              \n",
      " TITLE                   | Councilmember                                                                                                                                                                                                                                                                                                                                                                                  \n",
      " VOTER_NAME              | Adam Bazaldua                                                                                                                                                                                                                                                                                                                                                                                  \n",
      " VOTE_CAST               | YES                                                                                                                                                                                                                                                                                                                                                                                            \n",
      " FINAL_ACTION_TAKEN      | AMENDED                                                                                                                                                                                                                                                                                                                                                                                        \n",
      " AGENDA_ITEM_DESCRIPTION | A public hearing to receive comments regarding an application for and an ordinance granting a Planned Development Subdistrict for mixed uses on property zoned an HC Heavy Commercial Subdistrict within Planned Development District No. 193, the Oak Lawn Special Purpose District, on the northwest line of Woodall Rodgers Freeway, between North St. Paul Street and North Harwood Street \n",
      " AGENDA_ID               | 062420_AG_Z16                                                                                                                                                                                                                                                                                                                                                                                  \n",
      " VOTE_ID                 | 062420_AG_Z16_7                                                                                                                                                                                                                                                                                                                                                                                \n",
      " Splits                  | [Adam, Bazaldua]                                                                                                                                                                                                                                                                                                                                                                               \n",
      " First_name              | Adam                                                                                                                                                                                                                                                                                                                                                                                           \n",
      " Last_name               | Bazaldua                                                                                                                                                                                                                                                                                                                                                                                       \n",
      " random_val              | 0.14787317917594633                                                                                                                                                                                                                                                                                                                                                                            \n",
      "-RECORD 6-----------------------------------------------------------------------------------------------------------------------------------------------------------------------------------------------------------------------------------------------------------------------------------------------------------------------------------------------------------------------------------------------------------------\n",
      " DATE                    | 06/24/2020                                                                                                                                                                                                                                                                                                                                                                                     \n",
      " AGENDA_ITEM_NUMBER      | Z16                                                                                                                                                                                                                                                                                                                                                                                            \n",
      " ITEM_TYPE               | AGENDA                                                                                                                                                                                                                                                                                                                                                                                         \n",
      " DISTRICT                | 8                                                                                                                                                                                                                                                                                                                                                                                              \n",
      " TITLE                   | Councilmember                                                                                                                                                                                                                                                                                                                                                                                  \n",
      " VOTER_NAME              | Tennell Atkins                                                                                                                                                                                                                                                                                                                                                                                 \n",
      " VOTE_CAST               | YES                                                                                                                                                                                                                                                                                                                                                                                            \n",
      " FINAL_ACTION_TAKEN      | AMENDED                                                                                                                                                                                                                                                                                                                                                                                        \n",
      " AGENDA_ITEM_DESCRIPTION | A public hearing to receive comments regarding an application for and an ordinance granting a Planned Development Subdistrict for mixed uses on property zoned an HC Heavy Commercial Subdistrict within Planned Development District No. 193, the Oak Lawn Special Purpose District, on the northwest line of Woodall Rodgers Freeway, between North St. Paul Street and North Harwood Street \n",
      " AGENDA_ID               | 062420_AG_Z16                                                                                                                                                                                                                                                                                                                                                                                  \n",
      " VOTE_ID                 | 062420_AG_Z16_8                                                                                                                                                                                                                                                                                                                                                                                \n",
      " Splits                  | [Tennell, Atkins]                                                                                                                                                                                                                                                                                                                                                                              \n",
      " First_name              | Tennell                                                                                                                                                                                                                                                                                                                                                                                        \n",
      " Last_name               | Atkins                                                                                                                                                                                                                                                                                                                                                                                         \n",
      " random_val              | 0.07883842166136956                                                                                                                                                                                                                                                                                                                                                                            \n",
      "-RECORD 7-----------------------------------------------------------------------------------------------------------------------------------------------------------------------------------------------------------------------------------------------------------------------------------------------------------------------------------------------------------------------------------------------------------------\n",
      " DATE                    | 06/24/2020                                                                                                                                                                                                                                                                                                                                                                                     \n",
      " AGENDA_ITEM_NUMBER      | Z16                                                                                                                                                                                                                                                                                                                                                                                            \n",
      " ITEM_TYPE               | AGENDA                                                                                                                                                                                                                                                                                                                                                                                         \n",
      " DISTRICT                | 9                                                                                                                                                                                                                                                                                                                                                                                              \n",
      " TITLE                   | Councilmember                                                                                                                                                                                                                                                                                                                                                                                  \n",
      " VOTER_NAME              | Paula Blackmon                                                                                                                                                                                                                                                                                                                                                                                 \n",
      " VOTE_CAST               | YES                                                                                                                                                                                                                                                                                                                                                                                            \n",
      " FINAL_ACTION_TAKEN      | AMENDED                                                                                                                                                                                                                                                                                                                                                                                        \n",
      " AGENDA_ITEM_DESCRIPTION | A public hearing to receive comments regarding an application for and an ordinance granting a Planned Development Subdistrict for mixed uses on property zoned an HC Heavy Commercial Subdistrict within Planned Development District No. 193, the Oak Lawn Special Purpose District, on the northwest line of Woodall Rodgers Freeway, between North St. Paul Street and North Harwood Street \n",
      " AGENDA_ID               | 062420_AG_Z16                                                                                                                                                                                                                                                                                                                                                                                  \n",
      " VOTE_ID                 | 062420_AG_Z16_9                                                                                                                                                                                                                                                                                                                                                                                \n",
      " Splits                  | [Paula, Blackmon]                                                                                                                                                                                                                                                                                                                                                                              \n",
      " First_name              | Paula                                                                                                                                                                                                                                                                                                                                                                                          \n",
      " Last_name               | Blackmon                                                                                                                                                                                                                                                                                                                                                                                       \n",
      " random_val              | 0.8042869732069244                                                                                                                                                                                                                                                                                                                                                                             \n",
      "-RECORD 8-----------------------------------------------------------------------------------------------------------------------------------------------------------------------------------------------------------------------------------------------------------------------------------------------------------------------------------------------------------------------------------------------------------------\n",
      " DATE                    | 06/24/2020                                                                                                                                                                                                                                                                                                                                                                                     \n",
      " AGENDA_ITEM_NUMBER      | Z17                                                                                                                                                                                                                                                                                                                                                                                            \n",
      " ITEM_TYPE               | AGENDA                                                                                                                                                                                                                                                                                                                                                                                         \n",
      " DISTRICT                | 1                                                                                                                                                                                                                                                                                                                                                                                              \n",
      " TITLE                   | Councilmember                                                                                                                                                                                                                                                                                                                                                                                  \n",
      " VOTER_NAME              | Chad West                                                                                                                                                                                                                                                                                                                                                                                      \n",
      " VOTE_CAST               | YES                                                                                                                                                                                                                                                                                                                                                                                            \n",
      " FINAL_ACTION_TAKEN      | DENIED WITH PREJUDICE                                                                                                                                                                                                                                                                                                                                                                          \n",
      " AGENDA_ITEM_DESCRIPTION | A public hearing to receive comments regarding an application for and  an  ordinance granting a  Specific  Use  Permit  for  a  handicapped  group  dwelling  unit  use  on  property  zoned  an  R-7.5(A)  Single  Family  District,  at  the  terminus of Maceo Circle Drive,  south  of  Magna  Vista  Drive  and  west  of  Scenic Circle                                                  \n",
      " AGENDA_ID               | 062420_AG_Z17                                                                                                                                                                                                                                                                                                                                                                                  \n",
      " VOTE_ID                 | 062420_AG_Z17_1                                                                                                                                                                                                                                                                                                                                                                                \n",
      " Splits                  | [Chad, West]                                                                                                                                                                                                                                                                                                                                                                                   \n",
      " First_name              | Chad                                                                                                                                                                                                                                                                                                                                                                                           \n",
      " Last_name               | West                                                                                                                                                                                                                                                                                                                                                                                           \n",
      " random_val              | 0.5180730596459406                                                                                                                                                                                                                                                                                                                                                                             \n",
      "-RECORD 9-----------------------------------------------------------------------------------------------------------------------------------------------------------------------------------------------------------------------------------------------------------------------------------------------------------------------------------------------------------------------------------------------------------------\n",
      " DATE                    | 06/24/2020                                                                                                                                                                                                                                                                                                                                                                                     \n",
      " AGENDA_ITEM_NUMBER      | Z17                                                                                                                                                                                                                                                                                                                                                                                            \n",
      " ITEM_TYPE               | AGENDA                                                                                                                                                                                                                                                                                                                                                                                         \n",
      " DISTRICT                | 10                                                                                                                                                                                                                                                                                                                                                                                             \n",
      " TITLE                   | Deputy Mayor Pro Tem                                                                                                                                                                                                                                                                                                                                                                           \n",
      " VOTER_NAME              | B. Adam McGough                                                                                                                                                                                                                                                                                                                                                                                \n",
      " VOTE_CAST               | YES                                                                                                                                                                                                                                                                                                                                                                                            \n",
      " FINAL_ACTION_TAKEN      | DENIED WITH PREJUDICE                                                                                                                                                                                                                                                                                                                                                                          \n",
      " AGENDA_ITEM_DESCRIPTION | A public hearing to receive comments regarding an application for and  an  ordinance granting a  Specific  Use  Permit  for  a  handicapped  group  dwelling  unit  use  on  property  zoned  an  R-7.5(A)  Single  Family  District,  at  the  terminus of Maceo Circle Drive,  south  of  Magna  Vista  Drive  and  west  of  Scenic Circle                                                  \n",
      " AGENDA_ID               | 062420_AG_Z17                                                                                                                                                                                                                                                                                                                                                                                  \n",
      " VOTE_ID                 | 062420_AG_Z17_10                                                                                                                                                                                                                                                                                                                                                                               \n",
      " Splits                  | [B., Adam, McGough]                                                                                                                                                                                                                                                                                                                                                                            \n",
      " First_name              | B.                                                                                                                                                                                                                                                                                                                                                                                             \n",
      " Last_name               | McGough                                                                                                                                                                                                                                                                                                                                                                                        \n",
      " random_val              | 0.0                                                                                                                                                                                                                                                                                                                                                                                            \n",
      "-RECORD 10----------------------------------------------------------------------------------------------------------------------------------------------------------------------------------------------------------------------------------------------------------------------------------------------------------------------------------------------------------------------------------------------------------------\n",
      " DATE                    | 06/24/2020                                                                                                                                                                                                                                                                                                                                                                                     \n",
      " AGENDA_ITEM_NUMBER      | Z17                                                                                                                                                                                                                                                                                                                                                                                            \n",
      " ITEM_TYPE               | AGENDA                                                                                                                                                                                                                                                                                                                                                                                         \n",
      " DISTRICT                | 11                                                                                                                                                                                                                                                                                                                                                                                             \n",
      " TITLE                   | Councilmember                                                                                                                                                                                                                                                                                                                                                                                  \n",
      " VOTER_NAME              | Lee M. Kleinman                                                                                                                                                                                                                                                                                                                                                                                \n",
      " VOTE_CAST               | YES                                                                                                                                                                                                                                                                                                                                                                                            \n",
      " FINAL_ACTION_TAKEN      | DENIED WITH PREJUDICE                                                                                                                                                                                                                                                                                                                                                                          \n",
      " AGENDA_ITEM_DESCRIPTION | A public hearing to receive comments regarding an application for and  an  ordinance granting a  Specific  Use  Permit  for  a  handicapped  group  dwelling  unit  use  on  property  zoned  an  R-7.5(A)  Single  Family  District,  at  the  terminus of Maceo Circle Drive,  south  of  Magna  Vista  Drive  and  west  of  Scenic Circle                                                  \n",
      " AGENDA_ID               | 062420_AG_Z17                                                                                                                                                                                                                                                                                                                                                                                  \n",
      " VOTE_ID                 | 062420_AG_Z17_11                                                                                                                                                                                                                                                                                                                                                                               \n",
      " Splits                  | [Lee, M., Kleinman]                                                                                                                                                                                                                                                                                                                                                                            \n",
      " First_name              | Lee                                                                                                                                                                                                                                                                                                                                                                                            \n",
      " Last_name               | Kleinman                                                                                                                                                                                                                                                                                                                                                                                       \n",
      " random_val              | 0.5136073368727                                                                                                                                                                                                                                                                                                                                                                                \n",
      "-RECORD 11----------------------------------------------------------------------------------------------------------------------------------------------------------------------------------------------------------------------------------------------------------------------------------------------------------------------------------------------------------------------------------------------------------------\n",
      " DATE                    | 01/11/2017                                                                                                                                                                                                                                                                                                                                                                                     \n",
      " AGENDA_ITEM_NUMBER      | 1                                                                                                                                                                                                                                                                                                                                                                                              \n",
      " ITEM_TYPE               | AGENDA DATE                                                                                                                                                                                                                                                                                                                                                                                    \n",
      " DISTRICT                | 13                                                                                                                                                                                                                                                                                                                                                                                             \n",
      " TITLE                   | Councilmember                                                                                                                                                                                                                                                                                                                                                                                  \n",
      " VOTER_NAME              | Jennifer S. Gates                                                                                                                                                                                                                                                                                                                                                                              \n",
      " VOTE_CAST               | YES                                                                                                                                                                                                                                                                                                                                                                                            \n",
      " FINAL_ACTION_TAKEN      | APPROVED                                                                                                                                                                                                                                                                                                                                                                                       \n",
      " AGENDA_ITEM_DESCRIPTION | Approval of Minutes of the December 14, 2016 City Council Meeting                                                                                                                                                                                                                                                                                                                              \n",
      " AGENDA_ID               | 011117__1                                                                                                                                                                                                                                                                                                                                                                                      \n",
      " VOTE_ID                 | 011117__1_13                                                                                                                                                                                                                                                                                                                                                                                   \n",
      " Splits                  | [Jennifer, S., Gates]                                                                                                                                                                                                                                                                                                                                                                          \n",
      " First_name              | Jennifer                                                                                                                                                                                                                                                                                                                                                                                       \n",
      " Last_name               | Gates                                                                                                                                                                                                                                                                                                                                                                                          \n",
      " random_val              | 0.2938855708236322                                                                                                                                                                                                                                                                                                                                                                             \n",
      "-RECORD 12----------------------------------------------------------------------------------------------------------------------------------------------------------------------------------------------------------------------------------------------------------------------------------------------------------------------------------------------------------------------------------------------------------------\n",
      " DATE                    | 04/25/2018                                                                                                                                                                                                                                                                                                                                                                                     \n",
      " AGENDA_ITEM_NUMBER      | 1                                                                                                                                                                                                                                                                                                                                                                                              \n",
      " ITEM_TYPE               | AGENDA DATE                                                                                                                                                                                                                                                                                                                                                                                    \n",
      " DISTRICT                | 12                                                                                                                                                                                                                                                                                                                                                                                             \n",
      " TITLE                   | Councilmember                                                                                                                                                                                                                                                                                                                                                                                  \n",
      " VOTER_NAME              | Sandy  Greyson                                                                                                                                                                                                                                                                                                                                                                                 \n",
      " VOTE_CAST               | YES                                                                                                                                                                                                                                                                                                                                                                                            \n",
      " FINAL_ACTION_TAKEN      | APPROVED                                                                                                                                                                                                                                                                                                                                                                                       \n",
      " AGENDA_ITEM_DESCRIPTION | Approval of Minutes of the April 11, 2018 City Council Meeting                                                                                                                                                                                                                                                                                                                                 \n",
      " AGENDA_ID               | 042518__1                                                                                                                                                                                                                                                                                                                                                                                      \n",
      " VOTE_ID                 | 042518__1_12                                                                                                                                                                                                                                                                                                                                                                                   \n",
      " Splits                  | [Sandy, Greyson]                                                                                                                                                                                                                                                                                                                                                                               \n",
      " First_name              | Sandy                                                                                                                                                                                                                                                                                                                                                                                          \n",
      " Last_name               | Greyson                                                                                                                                                                                                                                                                                                                                                                                        \n",
      " random_val              | 0.0824143719725835                                                                                                                                                                                                                                                                                                                                                                             \n",
      "-RECORD 13----------------------------------------------------------------------------------------------------------------------------------------------------------------------------------------------------------------------------------------------------------------------------------------------------------------------------------------------------------------------------------------------------------------\n",
      " DATE                    | 04/25/2018                                                                                                                                                                                                                                                                                                                                                                                     \n",
      " AGENDA_ITEM_NUMBER      | 1                                                                                                                                                                                                                                                                                                                                                                                              \n",
      " ITEM_TYPE               | AGENDA DATE                                                                                                                                                                                                                                                                                                                                                                                    \n",
      " DISTRICT                | 13                                                                                                                                                                                                                                                                                                                                                                                             \n",
      " TITLE                   | Councilmember                                                                                                                                                                                                                                                                                                                                                                                  \n",
      " VOTER_NAME              | Jennifer S.  Gates                                                                                                                                                                                                                                                                                                                                                                             \n",
      " VOTE_CAST               | YES                                                                                                                                                                                                                                                                                                                                                                                            \n",
      " FINAL_ACTION_TAKEN      | APPROVED                                                                                                                                                                                                                                                                                                                                                                                       \n",
      " AGENDA_ITEM_DESCRIPTION | Approval of Minutes of the April 11, 2018 City Council Meeting                                                                                                                                                                                                                                                                                                                                 \n",
      " AGENDA_ID               | 042518__1                                                                                                                                                                                                                                                                                                                                                                                      \n",
      " VOTE_ID                 | 042518__1_13                                                                                                                                                                                                                                                                                                                                                                                   \n",
      " Splits                  | [Jennifer, S., Gates]                                                                                                                                                                                                                                                                                                                                                                          \n",
      " First_name              | Jennifer                                                                                                                                                                                                                                                                                                                                                                                       \n",
      " Last_name               | Gates                                                                                                                                                                                                                                                                                                                                                                                          \n",
      " random_val              | 0.6013962644042223                                                                                                                                                                                                                                                                                                                                                                             \n",
      "-RECORD 14----------------------------------------------------------------------------------------------------------------------------------------------------------------------------------------------------------------------------------------------------------------------------------------------------------------------------------------------------------------------------------------------------------------\n",
      " DATE                    | 04/25/2018                                                                                                                                                                                                                                                                                                                                                                                     \n",
      " AGENDA_ITEM_NUMBER      | 1                                                                                                                                                                                                                                                                                                                                                                                              \n",
      " ITEM_TYPE               | AGENDA DATE                                                                                                                                                                                                                                                                                                                                                                                    \n",
      " DISTRICT                | 14                                                                                                                                                                                                                                                                                                                                                                                             \n",
      " TITLE                   | Councilmember                                                                                                                                                                                                                                                                                                                                                                                  \n",
      " VOTER_NAME              | Philip T.  Kingston                                                                                                                                                                                                                                                                                                                                                                            \n",
      " VOTE_CAST               | YES                                                                                                                                                                                                                                                                                                                                                                                            \n",
      " FINAL_ACTION_TAKEN      | APPROVED                                                                                                                                                                                                                                                                                                                                                                                       \n",
      " AGENDA_ITEM_DESCRIPTION | Approval of Minutes of the April 11, 2018 City Council Meeting                                                                                                                                                                                                                                                                                                                                 \n",
      " AGENDA_ID               | 042518__1                                                                                                                                                                                                                                                                                                                                                                                      \n",
      " VOTE_ID                 | 042518__1_14                                                                                                                                                                                                                                                                                                                                                                                   \n",
      " Splits                  | [Philip, T., Kingston]                                                                                                                                                                                                                                                                                                                                                                         \n",
      " First_name              | Philip                                                                                                                                                                                                                                                                                                                                                                                         \n",
      " Last_name               | Kingston                                                                                                                                                                                                                                                                                                                                                                                       \n",
      " random_val              | 0.7431924573509947                                                                                                                                                                                                                                                                                                                                                                             \n",
      "-RECORD 15----------------------------------------------------------------------------------------------------------------------------------------------------------------------------------------------------------------------------------------------------------------------------------------------------------------------------------------------------------------------------------------------------------------\n",
      " DATE                    | 04/25/2018                                                                                                                                                                                                                                                                                                                                                                                     \n",
      " AGENDA_ITEM_NUMBER      | 1                                                                                                                                                                                                                                                                                                                                                                                              \n",
      " ITEM_TYPE               | AGENDA DATE                                                                                                                                                                                                                                                                                                                                                                                    \n",
      " DISTRICT                | 15                                                                                                                                                                                                                                                                                                                                                                                             \n",
      " TITLE                   | Mayor                                                                                                                                                                                                                                                                                                                                                                                          \n",
      " VOTER_NAME              | Michael S. Rawlings                                                                                                                                                                                                                                                                                                                                                                            \n",
      " VOTE_CAST               | YES                                                                                                                                                                                                                                                                                                                                                                                            \n",
      " FINAL_ACTION_TAKEN      | APPROVED                                                                                                                                                                                                                                                                                                                                                                                       \n",
      " AGENDA_ITEM_DESCRIPTION | Approval of Minutes of the April 11, 2018 City Council Meeting                                                                                                                                                                                                                                                                                                                                 \n",
      " AGENDA_ID               | 042518__1                                                                                                                                                                                                                                                                                                                                                                                      \n",
      " VOTE_ID                 | 042518__1_15                                                                                                                                                                                                                                                                                                                                                                                   \n",
      " Splits                  | [Michael, S., Rawlings]                                                                                                                                                                                                                                                                                                                                                                        \n",
      " First_name              | Michael                                                                                                                                                                                                                                                                                                                                                                                        \n",
      " Last_name               | Rawlings                                                                                                                                                                                                                                                                                                                                                                                       \n",
      " random_val              | 2.0                                                                                                                                                                                                                                                                                                                                                                                            \n",
      "-RECORD 16----------------------------------------------------------------------------------------------------------------------------------------------------------------------------------------------------------------------------------------------------------------------------------------------------------------------------------------------------------------------------------------------------------------\n",
      " DATE                    | 06/24/2020                                                                                                                                                                                                                                                                                                                                                                                     \n",
      " AGENDA_ITEM_NUMBER      | Z17                                                                                                                                                                                                                                                                                                                                                                                            \n",
      " ITEM_TYPE               | AGENDA                                                                                                                                                                                                                                                                                                                                                                                         \n",
      " DISTRICT                | 12                                                                                                                                                                                                                                                                                                                                                                                             \n",
      " TITLE                   | Councilmember                                                                                                                                                                                                                                                                                                                                                                                  \n",
      " VOTER_NAME              | Cara Mendelsohn                                                                                                                                                                                                                                                                                                                                                                                \n",
      " VOTE_CAST               | YES                                                                                                                                                                                                                                                                                                                                                                                            \n",
      " FINAL_ACTION_TAKEN      | DENIED WITH PREJUDICE                                                                                                                                                                                                                                                                                                                                                                          \n",
      " AGENDA_ITEM_DESCRIPTION | A public hearing to receive comments regarding an application for and  an  ordinance granting a  Specific  Use  Permit  for  a  handicapped  group  dwelling  unit  use  on  property  zoned  an  R-7.5(A)  Single  Family  District,  at  the  terminus of Maceo Circle Drive,  south  of  Magna  Vista  Drive  and  west  of  Scenic Circle                                                  \n",
      " AGENDA_ID               | 062420_AG_Z17                                                                                                                                                                                                                                                                                                                                                                                  \n",
      " VOTE_ID                 | 062420_AG_Z17_12                                                                                                                                                                                                                                                                                                                                                                               \n",
      " Splits                  | [Cara, Mendelsohn]                                                                                                                                                                                                                                                                                                                                                                             \n",
      " First_name              | Cara                                                                                                                                                                                                                                                                                                                                                                                           \n",
      " Last_name               | Mendelsohn                                                                                                                                                                                                                                                                                                                                                                                     \n",
      " random_val              | 0.06585920533295864                                                                                                                                                                                                                                                                                                                                                                            \n",
      "-RECORD 17----------------------------------------------------------------------------------------------------------------------------------------------------------------------------------------------------------------------------------------------------------------------------------------------------------------------------------------------------------------------------------------------------------------\n",
      " DATE                    | 06/24/2020                                                                                                                                                                                                                                                                                                                                                                                     \n",
      " AGENDA_ITEM_NUMBER      | Z17                                                                                                                                                                                                                                                                                                                                                                                            \n",
      " ITEM_TYPE               | AGENDA                                                                                                                                                                                                                                                                                                                                                                                         \n",
      " DISTRICT                | 13                                                                                                                                                                                                                                                                                                                                                                                             \n",
      " TITLE                   | Councilmember                                                                                                                                                                                                                                                                                                                                                                                  \n",
      " VOTER_NAME              | Jennifer S.  Gates                                                                                                                                                                                                                                                                                                                                                                             \n",
      " VOTE_CAST               | YES                                                                                                                                                                                                                                                                                                                                                                                            \n",
      " FINAL_ACTION_TAKEN      | DENIED WITH PREJUDICE                                                                                                                                                                                                                                                                                                                                                                          \n",
      " AGENDA_ITEM_DESCRIPTION | A public hearing to receive comments regarding an application for and  an  ordinance granting a  Specific  Use  Permit  for  a  handicapped  group  dwelling  unit  use  on  property  zoned  an  R-7.5(A)  Single  Family  District,  at  the  terminus of Maceo Circle Drive,  south  of  Magna  Vista  Drive  and  west  of  Scenic Circle                                                  \n",
      " AGENDA_ID               | 062420_AG_Z17                                                                                                                                                                                                                                                                                                                                                                                  \n",
      " VOTE_ID                 | 062420_AG_Z17_13                                                                                                                                                                                                                                                                                                                                                                               \n",
      " Splits                  | [Jennifer, S., Gates]                                                                                                                                                                                                                                                                                                                                                                          \n",
      " First_name              | Jennifer                                                                                                                                                                                                                                                                                                                                                                                       \n",
      " Last_name               | Gates                                                                                                                                                                                                                                                                                                                                                                                          \n",
      " random_val              | 0.2960765780181239                                                                                                                                                                                                                                                                                                                                                                             \n",
      "-RECORD 18----------------------------------------------------------------------------------------------------------------------------------------------------------------------------------------------------------------------------------------------------------------------------------------------------------------------------------------------------------------------------------------------------------------\n",
      " DATE                    | 06/24/2020                                                                                                                                                                                                                                                                                                                                                                                     \n",
      " AGENDA_ITEM_NUMBER      | Z17                                                                                                                                                                                                                                                                                                                                                                                            \n",
      " ITEM_TYPE               | AGENDA                                                                                                                                                                                                                                                                                                                                                                                         \n",
      " DISTRICT                | 14                                                                                                                                                                                                                                                                                                                                                                                             \n",
      " TITLE                   | Councilmember                                                                                                                                                                                                                                                                                                                                                                                  \n",
      " VOTER_NAME              | David Blewett                                                                                                                                                                                                                                                                                                                                                                                  \n",
      " VOTE_CAST               | YES                                                                                                                                                                                                                                                                                                                                                                                            \n",
      " FINAL_ACTION_TAKEN      | DENIED WITH PREJUDICE                                                                                                                                                                                                                                                                                                                                                                          \n",
      " AGENDA_ITEM_DESCRIPTION | A public hearing to receive comments regarding an application for and  an  ordinance granting a  Specific  Use  Permit  for  a  handicapped  group  dwelling  unit  use  on  property  zoned  an  R-7.5(A)  Single  Family  District,  at  the  terminus of Maceo Circle Drive,  south  of  Magna  Vista  Drive  and  west  of  Scenic Circle                                                  \n",
      " AGENDA_ID               | 062420_AG_Z17                                                                                                                                                                                                                                                                                                                                                                                  \n",
      " VOTE_ID                 | 062420_AG_Z17_14                                                                                                                                                                                                                                                                                                                                                                               \n",
      " Splits                  | [David, Blewett]                                                                                                                                                                                                                                                                                                                                                                               \n",
      " First_name              | David                                                                                                                                                                                                                                                                                                                                                                                          \n",
      " Last_name               | Blewett                                                                                                                                                                                                                                                                                                                                                                                        \n",
      " random_val              | 0.9684761707598267                                                                                                                                                                                                                                                                                                                                                                             \n",
      "-RECORD 19----------------------------------------------------------------------------------------------------------------------------------------------------------------------------------------------------------------------------------------------------------------------------------------------------------------------------------------------------------------------------------------------------------------\n",
      " DATE                    | 04/25/2018                                                                                                                                                                                                                                                                                                                                                                                     \n",
      " AGENDA_ITEM_NUMBER      | 1                                                                                                                                                                                                                                                                                                                                                                                              \n",
      " ITEM_TYPE               | AGENDA DATE                                                                                                                                                                                                                                                                                                                                                                                    \n",
      " DISTRICT                | 2                                                                                                                                                                                                                                                                                                                                                                                              \n",
      " TITLE                   | Deputy Mayor Pro Tem                                                                                                                                                                                                                                                                                                                                                                           \n",
      " VOTER_NAME              | Adam Medrano                                                                                                                                                                                                                                                                                                                                                                                   \n",
      " VOTE_CAST               | YES                                                                                                                                                                                                                                                                                                                                                                                            \n",
      " FINAL_ACTION_TAKEN      | APPROVED                                                                                                                                                                                                                                                                                                                                                                                       \n",
      " AGENDA_ITEM_DESCRIPTION | Approval of Minutes of the April 11, 2018 City Council Meeting                                                                                                                                                                                                                                                                                                                                 \n",
      " AGENDA_ID               | 042518__1                                                                                                                                                                                                                                                                                                                                                                                      \n",
      " VOTE_ID                 | 042518__1_2                                                                                                                                                                                                                                                                                                                                                                                    \n",
      " Splits                  | [Adam, Medrano]                                                                                                                                                                                                                                                                                                                                                                                \n",
      " First_name              | Adam                                                                                                                                                                                                                                                                                                                                                                                           \n",
      " Last_name               | Medrano                                                                                                                                                                                                                                                                                                                                                                                        \n",
      " random_val              | 0.0                                                                                                                                                                                                                                                                                                                                                                                            \n",
      "-RECORD 20----------------------------------------------------------------------------------------------------------------------------------------------------------------------------------------------------------------------------------------------------------------------------------------------------------------------------------------------------------------------------------------------------------------\n",
      " DATE                    | 04/25/2018                                                                                                                                                                                                                                                                                                                                                                                     \n",
      " AGENDA_ITEM_NUMBER      | 1                                                                                                                                                                                                                                                                                                                                                                                              \n",
      " ITEM_TYPE               | AGENDA DATE                                                                                                                                                                                                                                                                                                                                                                                    \n",
      " DISTRICT                | 3                                                                                                                                                                                                                                                                                                                                                                                              \n",
      " TITLE                   | Councilmember                                                                                                                                                                                                                                                                                                                                                                                  \n",
      " VOTER_NAME              | Casey Thomas, II                                                                                                                                                                                                                                                                                                                                                                               \n",
      " VOTE_CAST               | YES                                                                                                                                                                                                                                                                                                                                                                                            \n",
      " FINAL_ACTION_TAKEN      | APPROVED                                                                                                                                                                                                                                                                                                                                                                                       \n",
      " AGENDA_ITEM_DESCRIPTION | Approval of Minutes of the April 11, 2018 City Council Meeting                                                                                                                                                                                                                                                                                                                                 \n",
      " AGENDA_ID               | 042518__1                                                                                                                                                                                                                                                                                                                                                                                      \n",
      " VOTE_ID                 | 042518__1_3                                                                                                                                                                                                                                                                                                                                                                                    \n",
      " Splits                  | [Casey, Thomas,, II]                                                                                                                                                                                                                                                                                                                                                                           \n",
      " First_name              | Casey                                                                                                                                                                                                                                                                                                                                                                                          \n",
      " Last_name               | II                                                                                                                                                                                                                                                                                                                                                                                             \n",
      " random_val              | 0.46823555822122365                                                                                                                                                                                                                                                                                                                                                                            \n",
      "-RECORD 21----------------------------------------------------------------------------------------------------------------------------------------------------------------------------------------------------------------------------------------------------------------------------------------------------------------------------------------------------------------------------------------------------------------\n",
      " DATE                    | 04/25/2018                                                                                                                                                                                                                                                                                                                                                                                     \n",
      " AGENDA_ITEM_NUMBER      | 1                                                                                                                                                                                                                                                                                                                                                                                              \n",
      " ITEM_TYPE               | AGENDA DATE                                                                                                                                                                                                                                                                                                                                                                                    \n",
      " DISTRICT                | 4                                                                                                                                                                                                                                                                                                                                                                                              \n",
      " TITLE                   | Mayor Pro Tem                                                                                                                                                                                                                                                                                                                                                                                  \n",
      " VOTER_NAME              | Dwaine R. Caraway                                                                                                                                                                                                                                                                                                                                                                              \n",
      " VOTE_CAST               | YES                                                                                                                                                                                                                                                                                                                                                                                            \n",
      " FINAL_ACTION_TAKEN      | APPROVED                                                                                                                                                                                                                                                                                                                                                                                       \n",
      " AGENDA_ITEM_DESCRIPTION | Approval of Minutes of the April 11, 2018 City Council Meeting                                                                                                                                                                                                                                                                                                                                 \n",
      " AGENDA_ID               | 042518__1                                                                                                                                                                                                                                                                                                                                                                                      \n",
      " VOTE_ID                 | 042518__1_4                                                                                                                                                                                                                                                                                                                                                                                    \n",
      " Splits                  | [Dwaine, R., Caraway]                                                                                                                                                                                                                                                                                                                                                                          \n",
      " First_name              | Dwaine                                                                                                                                                                                                                                                                                                                                                                                         \n",
      " Last_name               | Caraway                                                                                                                                                                                                                                                                                                                                                                                        \n",
      " random_val              | 0.0                                                                                                                                                                                                                                                                                                                                                                                            \n",
      "-RECORD 22----------------------------------------------------------------------------------------------------------------------------------------------------------------------------------------------------------------------------------------------------------------------------------------------------------------------------------------------------------------------------------------------------------------\n",
      " DATE                    | 04/25/2018                                                                                                                                                                                                                                                                                                                                                                                     \n",
      " AGENDA_ITEM_NUMBER      | 1                                                                                                                                                                                                                                                                                                                                                                                              \n",
      " ITEM_TYPE               | AGENDA DATE                                                                                                                                                                                                                                                                                                                                                                                    \n",
      " DISTRICT                | 5                                                                                                                                                                                                                                                                                                                                                                                              \n",
      " TITLE                   | Councilmember                                                                                                                                                                                                                                                                                                                                                                                  \n",
      " VOTER_NAME              | Rickey D.  Callahan                                                                                                                                                                                                                                                                                                                                                                            \n",
      " VOTE_CAST               | YES                                                                                                                                                                                                                                                                                                                                                                                            \n",
      " FINAL_ACTION_TAKEN      | APPROVED                                                                                                                                                                                                                                                                                                                                                                                       \n",
      " AGENDA_ITEM_DESCRIPTION | Approval of Minutes of the April 11, 2018 City Council Meeting                                                                                                                                                                                                                                                                                                                                 \n",
      " AGENDA_ID               | 042518__1                                                                                                                                                                                                                                                                                                                                                                                      \n",
      " VOTE_ID                 | 042518__1_5                                                                                                                                                                                                                                                                                                                                                                                    \n",
      " Splits                  | [Rickey, D., Callahan]                                                                                                                                                                                                                                                                                                                                                                         \n",
      " First_name              | Rickey                                                                                                                                                                                                                                                                                                                                                                                         \n",
      " Last_name               | Callahan                                                                                                                                                                                                                                                                                                                                                                                       \n",
      " random_val              | 0.33408627110484723                                                                                                                                                                                                                                                                                                                                                                            \n",
      "-RECORD 23----------------------------------------------------------------------------------------------------------------------------------------------------------------------------------------------------------------------------------------------------------------------------------------------------------------------------------------------------------------------------------------------------------------\n",
      " DATE                    | 04/25/2018                                                                                                                                                                                                                                                                                                                                                                                     \n",
      " AGENDA_ITEM_NUMBER      | 1                                                                                                                                                                                                                                                                                                                                                                                              \n",
      " ITEM_TYPE               | AGENDA DATE                                                                                                                                                                                                                                                                                                                                                                                    \n",
      " DISTRICT                | 6                                                                                                                                                                                                                                                                                                                                                                                              \n",
      " TITLE                   | Councilmember                                                                                                                                                                                                                                                                                                                                                                                  \n",
      " VOTER_NAME              | Omar Narvaez                                                                                                                                                                                                                                                                                                                                                                                   \n",
      " VOTE_CAST               | YES                                                                                                                                                                                                                                                                                                                                                                                            \n",
      " FINAL_ACTION_TAKEN      | APPROVED                                                                                                                                                                                                                                                                                                                                                                                       \n",
      " AGENDA_ITEM_DESCRIPTION | Approval of Minutes of the April 11, 2018 City Council Meeting                                                                                                                                                                                                                                                                                                                                 \n",
      " AGENDA_ID               | 042518__1                                                                                                                                                                                                                                                                                                                                                                                      \n",
      " VOTE_ID                 | 042518__1_6                                                                                                                                                                                                                                                                                                                                                                                    \n",
      " Splits                  | [Omar, Narvaez]                                                                                                                                                                                                                                                                                                                                                                                \n",
      " First_name              | Omar                                                                                                                                                                                                                                                                                                                                                                                           \n",
      " Last_name               | Narvaez                                                                                                                                                                                                                                                                                                                                                                                        \n",
      " random_val              | 0.774092269431565                                                                                                                                                                                                                                                                                                                                                                              \n",
      "-RECORD 24----------------------------------------------------------------------------------------------------------------------------------------------------------------------------------------------------------------------------------------------------------------------------------------------------------------------------------------------------------------------------------------------------------------\n",
      " DATE                    | 04/25/2018                                                                                                                                                                                                                                                                                                                                                                                     \n",
      " AGENDA_ITEM_NUMBER      | 1                                                                                                                                                                                                                                                                                                                                                                                              \n",
      " ITEM_TYPE               | AGENDA DATE                                                                                                                                                                                                                                                                                                                                                                                    \n",
      " DISTRICT                | 7                                                                                                                                                                                                                                                                                                                                                                                              \n",
      " TITLE                   | Councilmember                                                                                                                                                                                                                                                                                                                                                                                  \n",
      " VOTER_NAME              | Kevin Felder                                                                                                                                                                                                                                                                                                                                                                                   \n",
      " VOTE_CAST               | YES                                                                                                                                                                                                                                                                                                                                                                                            \n",
      " FINAL_ACTION_TAKEN      | APPROVED                                                                                                                                                                                                                                                                                                                                                                                       \n",
      " AGENDA_ITEM_DESCRIPTION | Approval of Minutes of the April 11, 2018 City Council Meeting                                                                                                                                                                                                                                                                                                                                 \n",
      " AGENDA_ID               | 042518__1                                                                                                                                                                                                                                                                                                                                                                                      \n",
      " VOTE_ID                 | 042518__1_7                                                                                                                                                                                                                                                                                                                                                                                    \n",
      " Splits                  | [Kevin, Felder]                                                                                                                                                                                                                                                                                                                                                                                \n",
      " First_name              | Kevin                                                                                                                                                                                                                                                                                                                                                                                          \n",
      " Last_name               | Felder                                                                                                                                                                                                                                                                                                                                                                                         \n",
      " random_val              | 0.17150756882058604                                                                                                                                                                                                                                                                                                                                                                            \n",
      "-RECORD 25----------------------------------------------------------------------------------------------------------------------------------------------------------------------------------------------------------------------------------------------------------------------------------------------------------------------------------------------------------------------------------------------------------------\n",
      " DATE                    | 04/25/2018                                                                                                                                                                                                                                                                                                                                                                                     \n",
      " AGENDA_ITEM_NUMBER      | 1                                                                                                                                                                                                                                                                                                                                                                                              \n",
      " ITEM_TYPE               | AGENDA DATE                                                                                                                                                                                                                                                                                                                                                                                    \n",
      " DISTRICT                | 8                                                                                                                                                                                                                                                                                                                                                                                              \n",
      " TITLE                   | Councilmember                                                                                                                                                                                                                                                                                                                                                                                  \n",
      " VOTER_NAME              | Tennell Atkins                                                                                                                                                                                                                                                                                                                                                                                 \n",
      " VOTE_CAST               | YES                                                                                                                                                                                                                                                                                                                                                                                            \n",
      " FINAL_ACTION_TAKEN      | APPROVED                                                                                                                                                                                                                                                                                                                                                                                       \n",
      " AGENDA_ITEM_DESCRIPTION | Approval of Minutes of the April 11, 2018 City Council Meeting                                                                                                                                                                                                                                                                                                                                 \n",
      " AGENDA_ID               | 042518__1                                                                                                                                                                                                                                                                                                                                                                                      \n",
      " VOTE_ID                 | 042518__1_8                                                                                                                                                                                                                                                                                                                                                                                    \n",
      " Splits                  | [Tennell, Atkins]                                                                                                                                                                                                                                                                                                                                                                              \n",
      " First_name              | Tennell                                                                                                                                                                                                                                                                                                                                                                                        \n",
      " Last_name               | Atkins                                                                                                                                                                                                                                                                                                                                                                                         \n",
      " random_val              | 0.2961834624066917                                                                                                                                                                                                                                                                                                                                                                             \n",
      "-RECORD 26----------------------------------------------------------------------------------------------------------------------------------------------------------------------------------------------------------------------------------------------------------------------------------------------------------------------------------------------------------------------------------------------------------------\n",
      " DATE                    | 04/25/2018                                                                                                                                                                                                                                                                                                                                                                                     \n",
      " AGENDA_ITEM_NUMBER      | 1                                                                                                                                                                                                                                                                                                                                                                                              \n",
      " ITEM_TYPE               | AGENDA DATE                                                                                                                                                                                                                                                                                                                                                                                    \n",
      " DISTRICT                | 9                                                                                                                                                                                                                                                                                                                                                                                              \n",
      " TITLE                   | Councilmember                                                                                                                                                                                                                                                                                                                                                                                  \n",
      " VOTER_NAME              | Mark  Clayton                                                                                                                                                                                                                                                                                                                                                                                  \n",
      " VOTE_CAST               | YES                                                                                                                                                                                                                                                                                                                                                                                            \n",
      " FINAL_ACTION_TAKEN      | APPROVED                                                                                                                                                                                                                                                                                                                                                                                       \n",
      " AGENDA_ITEM_DESCRIPTION | Approval of Minutes of the April 11, 2018 City Council Meeting                                                                                                                                                                                                                                                                                                                                 \n",
      " AGENDA_ID               | 042518__1                                                                                                                                                                                                                                                                                                                                                                                      \n",
      " VOTE_ID                 | 042518__1_9                                                                                                                                                                                                                                                                                                                                                                                    \n",
      " Splits                  | [Mark, Clayton]                                                                                                                                                                                                                                                                                                                                                                                \n",
      " First_name              | Mark                                                                                                                                                                                                                                                                                                                                                                                           \n",
      " Last_name               | Clayton                                                                                                                                                                                                                                                                                                                                                                                        \n",
      " random_val              | 0.13823865695584048                                                                                                                                                                                                                                                                                                                                                                            \n",
      "-RECORD 27----------------------------------------------------------------------------------------------------------------------------------------------------------------------------------------------------------------------------------------------------------------------------------------------------------------------------------------------------------------------------------------------------------------\n",
      " DATE                    | 01/04/2017                                                                                                                                                                                                                                                                                                                                                                                     \n",
      " AGENDA_ITEM_NUMBER      | 1                                                                                                                                                                                                                                                                                                                                                                                              \n",
      " ITEM_TYPE               | AGENDA                                                                                                                                                                                                                                                                                                                                                                                         \n",
      " DISTRICT                | 1                                                                                                                                                                                                                                                                                                                                                                                              \n",
      " TITLE                   | Councilmember                                                                                                                                                                                                                                                                                                                                                                                  \n",
      " VOTER_NAME              | Scott Griggs                                                                                                                                                                                                                                                                                                                                                                                   \n",
      " VOTE_CAST               | AWVT                                                                                                                                                                                                                                                                                                                                                                                           \n",
      " FINAL_ACTION_TAKEN      | APPROVED                                                                                                                                                                                                                                                                                                                                                                                       \n",
      " AGENDA_ITEM_DESCRIPTION | Approval of Minutes of the December 6 Special Called Meeting, December 7, and December 9 Special Called Meeting 2016 City Council Meetings                                                                                                                                                                                                                                                     \n",
      " AGENDA_ID               | 010417__1                                                                                                                                                                                                                                                                                                                                                                                      \n",
      " VOTE_ID                 | 010417__1_1                                                                                                                                                                                                                                                                                                                                                                                    \n",
      " Splits                  | [Scott, Griggs]                                                                                                                                                                                                                                                                                                                                                                                \n",
      " First_name              | Scott                                                                                                                                                                                                                                                                                                                                                                                          \n",
      " Last_name               | Griggs                                                                                                                                                                                                                                                                                                                                                                                         \n",
      " random_val              | 0.11713899594123367                                                                                                                                                                                                                                                                                                                                                                            \n",
      "-RECORD 28----------------------------------------------------------------------------------------------------------------------------------------------------------------------------------------------------------------------------------------------------------------------------------------------------------------------------------------------------------------------------------------------------------------\n",
      " DATE                    | 01/04/2017                                                                                                                                                                                                                                                                                                                                                                                     \n",
      " AGENDA_ITEM_NUMBER      | 1                                                                                                                                                                                                                                                                                                                                                                                              \n",
      " ITEM_TYPE               | AGENDA                                                                                                                                                                                                                                                                                                                                                                                         \n",
      " DISTRICT                | 10                                                                                                                                                                                                                                                                                                                                                                                             \n",
      " TITLE                   | Councilmember                                                                                                                                                                                                                                                                                                                                                                                  \n",
      " VOTER_NAME              | B. Adam  McGough                                                                                                                                                                                                                                                                                                                                                                               \n",
      " VOTE_CAST               | YES                                                                                                                                                                                                                                                                                                                                                                                            \n",
      " FINAL_ACTION_TAKEN      | APPROVED                                                                                                                                                                                                                                                                                                                                                                                       \n",
      " AGENDA_ITEM_DESCRIPTION | Approval of Minutes of the December 6 Special Called Meeting, December 7, and December 9 Special Called Meeting 2016 City Council Meetings                                                                                                                                                                                                                                                     \n",
      " AGENDA_ID               | 010417__1                                                                                                                                                                                                                                                                                                                                                                                      \n",
      " VOTE_ID                 | 010417__1_10                                                                                                                                                                                                                                                                                                                                                                                   \n",
      " Splits                  | [B., Adam, McGough]                                                                                                                                                                                                                                                                                                                                                                            \n",
      " First_name              | B.                                                                                                                                                                                                                                                                                                                                                                                             \n",
      " Last_name               | McGough                                                                                                                                                                                                                                                                                                                                                                                        \n",
      " random_val              | 0.7801530301948101                                                                                                                                                                                                                                                                                                                                                                             \n",
      "-RECORD 29----------------------------------------------------------------------------------------------------------------------------------------------------------------------------------------------------------------------------------------------------------------------------------------------------------------------------------------------------------------------------------------------------------------\n",
      " DATE                    | 09/16/2020                                                                                                                                                                                                                                                                                                                                                                                     \n",
      " AGENDA_ITEM_NUMBER      | 1                                                                                                                                                                                                                                                                                                                                                                                              \n",
      " ITEM_TYPE               | AGENDA                                                                                                                                                                                                                                                                                                                                                                                         \n",
      " DISTRICT                | 11                                                                                                                                                                                                                                                                                                                                                                                             \n",
      " TITLE                   | Councilmember                                                                                                                                                                                                                                                                                                                                                                                  \n",
      " VOTER_NAME              | Lee M. Kleinman                                                                                                                                                                                                                                                                                                                                                                                \n",
      " VOTE_CAST               | YES                                                                                                                                                                                                                                                                                                                                                                                            \n",
      " FINAL_ACTION_TAKEN      | APPROVED                                                                                                                                                                                                                                                                                                                                                                                       \n",
      " AGENDA_ITEM_DESCRIPTION | Approval of Minutes of the September 2, 2020 City Council Meeting                                                                                                                                                                                                                                                                                                                              \n",
      " AGENDA_ID               | 091620_AG_1                                                                                                                                                                                                                                                                                                                                                                                    \n",
      " VOTE_ID                 | 091620_AG_1_11                                                                                                                                                                                                                                                                                                                                                                                 \n",
      " Splits                  | [Lee, M., Kleinman]                                                                                                                                                                                                                                                                                                                                                                            \n",
      " First_name              | Lee                                                                                                                                                                                                                                                                                                                                                                                            \n",
      " Last_name               | Kleinman                                                                                                                                                                                                                                                                                                                                                                                       \n",
      " random_val              | 0.43362698182131054                                                                                                                                                                                                                                                                                                                                                                            \n",
      "only showing top 30 rows\n",
      "\n"
     ]
    }
   ],
   "source": [
    "voter_df.show(30, truncate=False, vertical=True)"
   ]
  },
  {
   "cell_type": "markdown",
   "id": "0520d21a",
   "metadata": {},
   "source": [
    "**Use the .filter clause to find 0 in random_val**"
   ]
  },
  {
   "cell_type": "code",
   "execution_count": 48,
   "id": "e223682f",
   "metadata": {},
   "outputs": [
    {
     "name": "stdout",
     "output_type": "stream",
     "text": [
      "+----------+--------------------+----------+-----------------+\n",
      "|DATE      |TITLE               |random_val|VOTER_NAME       |\n",
      "+----------+--------------------+----------+-----------------+\n",
      "|09/16/2020|Deputy Mayor Pro Tem|0.0       |B. Adam McGough  |\n",
      "|06/24/2020|Deputy Mayor Pro Tem|0.0       |B. Adam McGough  |\n",
      "|04/25/2018|Deputy Mayor Pro Tem|0.0       |Adam Medrano     |\n",
      "|04/25/2018|Mayor Pro Tem       |0.0       |Dwaine R. Caraway|\n",
      "|06/20/2018|Deputy Mayor Pro Tem|0.0       |Adam Medrano     |\n",
      "|06/20/2018|Mayor Pro Tem       |0.0       |Dwaine R. Caraway|\n",
      "|09/16/2020|Mayor Pro Tem       |0.0       |Adam  Medrano    |\n",
      "|06/20/2018|Deputy Mayor Pro Tem|0.0       |Adam Medrano     |\n",
      "|06/20/2018|Mayor Pro Tem       |0.0       |Dwaine R. Caraway|\n",
      "|08/15/2018|Deputy Mayor Pro Tem|0.0       |Adam Medrano     |\n",
      "|08/15/2018|Deputy Mayor Pro Tem|0.0       |Adam Medrano     |\n",
      "|09/18/2018|Deputy Mayor Pro Tem|0.0       |Adam Medrano     |\n",
      "|09/18/2018|Mayor Pro Tem       |0.0       |Casey  Thomas, II|\n",
      "|04/25/2018|Deputy Mayor Pro Tem|0.0       |Adam Medrano     |\n",
      "|04/25/2018|Mayor Pro Tem       |0.0       |Dwaine R. Caraway|\n",
      "|04/11/2018|Mayor Pro Tem       |0.0       |Dwaine R. Caraway|\n",
      "|04/11/2018|Deputy Mayor Pro Tem|0.0       |Adam Medrano     |\n",
      "|04/11/2018|Mayor Pro Tem       |0.0       |Dwaine R. Caraway|\n",
      "|06/13/2018|Deputy Mayor Pro Tem|0.0       |Adam Medrano     |\n",
      "|04/11/2018|Deputy Mayor Pro Tem|0.0       |Adam Medrano     |\n",
      "|04/11/2018|Mayor Pro Tem       |0.0       |Dwaine R. Caraway|\n",
      "|06/13/2018|Mayor Pro Tem       |0.0       |Dwaine R. Caraway|\n",
      "|04/11/2018|Deputy Mayor Pro Tem|0.0       |Adam Medrano     |\n",
      "|04/11/2018|Mayor Pro Tem       |0.0       |Dwaine R. Caraway|\n",
      "|08/08/2018|Deputy Mayor Pro Tem|0.0       |Adam Medrano     |\n",
      "|08/08/2018|Mayor Pro Tem       |0.0       |Dwaine R. Caraway|\n",
      "|09/12/2018|Deputy Mayor Pro Tem|0.0       |Adam Medrano     |\n",
      "|09/12/2018|Mayor Pro Tem       |0.0       |Casey  Thomas, II|\n",
      "|09/16/2020|Deputy Mayor Pro Tem|0.0       |B. Adam McGough  |\n",
      "|08/09/2017|Mayor Pro Tem       |0.0       |Dwaine R. Caraway|\n",
      "+----------+--------------------+----------+-----------------+\n",
      "only showing top 30 rows\n",
      "\n"
     ]
    }
   ],
   "source": [
    "voter_df.filter(voter_df.random_val == 0).select(\"DATE\", \"TITLE\", \"random_val\",\"VOTER_NAME\").show(30, truncate=False)"
   ]
  },
  {
   "cell_type": "markdown",
   "id": "fa3f7e93",
   "metadata": {},
   "source": [
    "Task:\n",
    "- Define the function getFirstAndMiddle() as a user-defined function. It should return a string type. Function to return a space separated string of names, except the last entry in the names list.\n",
    "- Create a new column on voter_df called first_and_middle_name using your UDF.\n",
    "- Show the Data Frame."
   ]
  },
  {
   "cell_type": "markdown",
   "id": "7d2e11d6",
   "metadata": {},
   "source": [
    "**Define the function as a user-defined function. It should return a string type**"
   ]
  },
  {
   "cell_type": "code",
   "execution_count": 49,
   "id": "6da412a5",
   "metadata": {},
   "outputs": [],
   "source": [
    "def getFirstandMiddle(names):\n",
    "    return \" \".join(names[:-1])"
   ]
  },
  {
   "cell_type": "code",
   "execution_count": 50,
   "id": "b79b2074",
   "metadata": {},
   "outputs": [],
   "source": [
    "udfname = F.udf(getFirstandMiddle, StringType())"
   ]
  },
  {
   "cell_type": "markdown",
   "id": "b8e4477a",
   "metadata": {},
   "source": [
    "**Create a new column on voter_df called first_and_middle_name using your UDF**"
   ]
  },
  {
   "cell_type": "code",
   "execution_count": 51,
   "id": "ef39930a",
   "metadata": {},
   "outputs": [],
   "source": [
    "voter_df = voter_df.withColumn(\"first_and_middle_name\", udfname(voter_df.Splits))"
   ]
  },
  {
   "cell_type": "code",
   "execution_count": 52,
   "id": "3047668f",
   "metadata": {},
   "outputs": [],
   "source": [
    "# # Drop the splits column and show the new voter_df\n",
    "voter_df = voter_df.drop(\"Splits\")"
   ]
  },
  {
   "cell_type": "markdown",
   "id": "95609927",
   "metadata": {},
   "source": [
    "**Show the Data Frame**"
   ]
  },
  {
   "cell_type": "code",
   "execution_count": 53,
   "id": "0011ac5a",
   "metadata": {},
   "outputs": [
    {
     "name": "stderr",
     "output_type": "stream",
     "text": [
      "\r",
      "[Stage 62:>                                                         (0 + 1) / 1]\r",
      "\r",
      "                                                                                \r"
     ]
    },
    {
     "name": "stdout",
     "output_type": "stream",
     "text": [
      "-RECORD 0-----------------------------------------------------------------------------------------------------------------------------------------------------------------------------------------------------------------------------------------------------------------------------------------------------------------------------------------------------------------------------------------------------------------\n",
      " DATE                    | 09/16/2020                                                                                                                                                                                                                                                                                                                                                                                     \n",
      " AGENDA_ITEM_NUMBER      | 1                                                                                                                                                                                                                                                                                                                                                                                              \n",
      " ITEM_TYPE               | AGENDA                                                                                                                                                                                                                                                                                                                                                                                         \n",
      " DISTRICT                | 1                                                                                                                                                                                                                                                                                                                                                                                              \n",
      " TITLE                   | Councilmember                                                                                                                                                                                                                                                                                                                                                                                  \n",
      " VOTER_NAME              | Chad West                                                                                                                                                                                                                                                                                                                                                                                      \n",
      " VOTE_CAST               | YES                                                                                                                                                                                                                                                                                                                                                                                            \n",
      " FINAL_ACTION_TAKEN      | APPROVED                                                                                                                                                                                                                                                                                                                                                                                       \n",
      " AGENDA_ITEM_DESCRIPTION | Approval of Minutes of the September 2, 2020 City Council Meeting                                                                                                                                                                                                                                                                                                                              \n",
      " AGENDA_ID               | 091620_AG_1                                                                                                                                                                                                                                                                                                                                                                                    \n",
      " VOTE_ID                 | 091620_AG_1_1                                                                                                                                                                                                                                                                                                                                                                                  \n",
      " First_name              | Chad                                                                                                                                                                                                                                                                                                                                                                                           \n",
      " Last_name               | West                                                                                                                                                                                                                                                                                                                                                                                           \n",
      " random_val              | 0.4930763323269066                                                                                                                                                                                                                                                                                                                                                                             \n",
      " first_and_middle_name   | Chad                                                                                                                                                                                                                                                                                                                                                                                           \n",
      "-RECORD 1-----------------------------------------------------------------------------------------------------------------------------------------------------------------------------------------------------------------------------------------------------------------------------------------------------------------------------------------------------------------------------------------------------------------\n",
      " DATE                    | 09/16/2020                                                                                                                                                                                                                                                                                                                                                                                     \n",
      " AGENDA_ITEM_NUMBER      | 1                                                                                                                                                                                                                                                                                                                                                                                              \n",
      " ITEM_TYPE               | AGENDA                                                                                                                                                                                                                                                                                                                                                                                         \n",
      " DISTRICT                | 10                                                                                                                                                                                                                                                                                                                                                                                             \n",
      " TITLE                   | Deputy Mayor Pro Tem                                                                                                                                                                                                                                                                                                                                                                           \n",
      " VOTER_NAME              | B. Adam McGough                                                                                                                                                                                                                                                                                                                                                                                \n",
      " VOTE_CAST               | YES                                                                                                                                                                                                                                                                                                                                                                                            \n",
      " FINAL_ACTION_TAKEN      | APPROVED                                                                                                                                                                                                                                                                                                                                                                                       \n",
      " AGENDA_ITEM_DESCRIPTION | Approval of Minutes of the September 2, 2020 City Council Meeting                                                                                                                                                                                                                                                                                                                              \n",
      " AGENDA_ID               | 091620_AG_1                                                                                                                                                                                                                                                                                                                                                                                    \n",
      " VOTE_ID                 | 091620_AG_1_10                                                                                                                                                                                                                                                                                                                                                                                 \n",
      " First_name              | B.                                                                                                                                                                                                                                                                                                                                                                                             \n",
      " Last_name               | McGough                                                                                                                                                                                                                                                                                                                                                                                        \n",
      " random_val              | 0.0                                                                                                                                                                                                                                                                                                                                                                                            \n",
      " first_and_middle_name   | B. Adam                                                                                                                                                                                                                                                                                                                                                                                        \n",
      "-RECORD 2-----------------------------------------------------------------------------------------------------------------------------------------------------------------------------------------------------------------------------------------------------------------------------------------------------------------------------------------------------------------------------------------------------------------\n",
      " DATE                    | 06/24/2020                                                                                                                                                                                                                                                                                                                                                                                     \n",
      " AGENDA_ITEM_NUMBER      | Z16                                                                                                                                                                                                                                                                                                                                                                                            \n",
      " ITEM_TYPE               | AGENDA                                                                                                                                                                                                                                                                                                                                                                                         \n",
      " DISTRICT                | 4                                                                                                                                                                                                                                                                                                                                                                                              \n",
      " TITLE                   | Councilmember                                                                                                                                                                                                                                                                                                                                                                                  \n",
      " VOTER_NAME              | Carolyn King Arnold                                                                                                                                                                                                                                                                                                                                                                            \n",
      " VOTE_CAST               | YES                                                                                                                                                                                                                                                                                                                                                                                            \n",
      " FINAL_ACTION_TAKEN      | AMENDED                                                                                                                                                                                                                                                                                                                                                                                        \n",
      " AGENDA_ITEM_DESCRIPTION | A public hearing to receive comments regarding an application for and an ordinance granting a Planned Development Subdistrict for mixed uses on property zoned an HC Heavy Commercial Subdistrict within Planned Development District No. 193, the Oak Lawn Special Purpose District, on the northwest line of Woodall Rodgers Freeway, between North St. Paul Street and North Harwood Street \n",
      " AGENDA_ID               | 062420_AG_Z16                                                                                                                                                                                                                                                                                                                                                                                  \n",
      " VOTE_ID                 | 062420_AG_Z16_4                                                                                                                                                                                                                                                                                                                                                                                \n",
      " First_name              | Carolyn                                                                                                                                                                                                                                                                                                                                                                                        \n",
      " Last_name               | Arnold                                                                                                                                                                                                                                                                                                                                                                                         \n",
      " random_val              | 0.3094166139425888                                                                                                                                                                                                                                                                                                                                                                             \n",
      " first_and_middle_name   | Carolyn King                                                                                                                                                                                                                                                                                                                                                                                   \n",
      "-RECORD 3-----------------------------------------------------------------------------------------------------------------------------------------------------------------------------------------------------------------------------------------------------------------------------------------------------------------------------------------------------------------------------------------------------------------\n",
      " DATE                    | 06/24/2020                                                                                                                                                                                                                                                                                                                                                                                     \n",
      " AGENDA_ITEM_NUMBER      | Z16                                                                                                                                                                                                                                                                                                                                                                                            \n",
      " ITEM_TYPE               | AGENDA                                                                                                                                                                                                                                                                                                                                                                                         \n",
      " DISTRICT                | 5                                                                                                                                                                                                                                                                                                                                                                                              \n",
      " TITLE                   | Councilmember                                                                                                                                                                                                                                                                                                                                                                                  \n",
      " VOTER_NAME              | Jaime Resendez                                                                                                                                                                                                                                                                                                                                                                                 \n",
      " VOTE_CAST               | YES                                                                                                                                                                                                                                                                                                                                                                                            \n",
      " FINAL_ACTION_TAKEN      | AMENDED                                                                                                                                                                                                                                                                                                                                                                                        \n",
      " AGENDA_ITEM_DESCRIPTION | A public hearing to receive comments regarding an application for and an ordinance granting a Planned Development Subdistrict for mixed uses on property zoned an HC Heavy Commercial Subdistrict within Planned Development District No. 193, the Oak Lawn Special Purpose District, on the northwest line of Woodall Rodgers Freeway, between North St. Paul Street and North Harwood Street \n",
      " AGENDA_ID               | 062420_AG_Z16                                                                                                                                                                                                                                                                                                                                                                                  \n",
      " VOTE_ID                 | 062420_AG_Z16_5                                                                                                                                                                                                                                                                                                                                                                                \n",
      " First_name              | Jaime                                                                                                                                                                                                                                                                                                                                                                                          \n",
      " Last_name               | Resendez                                                                                                                                                                                                                                                                                                                                                                                       \n",
      " random_val              | 0.2004447748316167                                                                                                                                                                                                                                                                                                                                                                             \n",
      " first_and_middle_name   | Jaime                                                                                                                                                                                                                                                                                                                                                                                          \n",
      "-RECORD 4-----------------------------------------------------------------------------------------------------------------------------------------------------------------------------------------------------------------------------------------------------------------------------------------------------------------------------------------------------------------------------------------------------------------\n",
      " DATE                    | 06/24/2020                                                                                                                                                                                                                                                                                                                                                                                     \n",
      " AGENDA_ITEM_NUMBER      | Z16                                                                                                                                                                                                                                                                                                                                                                                            \n",
      " ITEM_TYPE               | AGENDA                                                                                                                                                                                                                                                                                                                                                                                         \n",
      " DISTRICT                | 6                                                                                                                                                                                                                                                                                                                                                                                              \n",
      " TITLE                   | Councilmember                                                                                                                                                                                                                                                                                                                                                                                  \n",
      " VOTER_NAME              | Omar Narvaez                                                                                                                                                                                                                                                                                                                                                                                   \n",
      " VOTE_CAST               | YES                                                                                                                                                                                                                                                                                                                                                                                            \n",
      " FINAL_ACTION_TAKEN      | AMENDED                                                                                                                                                                                                                                                                                                                                                                                        \n",
      " AGENDA_ITEM_DESCRIPTION | A public hearing to receive comments regarding an application for and an ordinance granting a Planned Development Subdistrict for mixed uses on property zoned an HC Heavy Commercial Subdistrict within Planned Development District No. 193, the Oak Lawn Special Purpose District, on the northwest line of Woodall Rodgers Freeway, between North St. Paul Street and North Harwood Street \n",
      " AGENDA_ID               | 062420_AG_Z16                                                                                                                                                                                                                                                                                                                                                                                  \n",
      " VOTE_ID                 | 062420_AG_Z16_6                                                                                                                                                                                                                                                                                                                                                                                \n",
      " First_name              | Omar                                                                                                                                                                                                                                                                                                                                                                                           \n",
      " Last_name               | Narvaez                                                                                                                                                                                                                                                                                                                                                                                        \n",
      " random_val              | 0.7977473300409693                                                                                                                                                                                                                                                                                                                                                                             \n",
      " first_and_middle_name   | Omar                                                                                                                                                                                                                                                                                                                                                                                           \n",
      "only showing top 5 rows\n",
      "\n"
     ]
    }
   ],
   "source": [
    "voter_df.show(5, truncate=False, vertical=True)"
   ]
  },
  {
   "cell_type": "markdown",
   "id": "83e42496",
   "metadata": {},
   "source": [
    "Task:\n",
    "- Select the unique entries from the column VOTER NAME and create a new DataFrame called voter_df.\n",
    "- Count the rows in the voter_df DataFrame.\n",
    "- Add a ROW_ID column using the appropriate Spark function.\n",
    "- Show the rows with the 10 highest ROW_IDs."
   ]
  },
  {
   "cell_type": "markdown",
   "id": "9c463d67",
   "metadata": {},
   "source": [
    "**Select the unique entries from the column VOTER NAME and create a new DataFrame called voter_df**"
   ]
  },
  {
   "cell_type": "code",
   "execution_count": 54,
   "id": "808a0627",
   "metadata": {},
   "outputs": [
    {
     "name": "stdout",
     "output_type": "stream",
     "text": [
      "+-------------------+\n",
      "|         VOTER_NAME|\n",
      "+-------------------+\n",
      "|     Tennell Atkins|\n",
      "|       Scott Griggs|\n",
      "|      Scott  Griggs|\n",
      "|      Sandy Greyson|\n",
      "|Michael S. Rawlings|\n",
      "|     Paula Blackmon|\n",
      "|       Kevin Felder|\n",
      "|    Cara Mendelsohn|\n",
      "|       Adam Medrano|\n",
      "|    Casey Thomas II|\n",
      "|      Jaynie Shultz|\n",
      "|      David Blewett|\n",
      "|   Casey Thomas, II|\n",
      "|      Mark  Clayton|\n",
      "|  Casey  Thomas, II|\n",
      "|     Sandy  Greyson|\n",
      "| Gay Donnell Willis|\n",
      "|      Adam  Medrano|\n",
      "|       Adam McGough|\n",
      "|       Mark Clayton|\n",
      "+-------------------+\n",
      "only showing top 20 rows\n",
      "\n"
     ]
    }
   ],
   "source": [
    "voter_df.select(\"VOTER_NAME\").distinct().show()"
   ]
  },
  {
   "cell_type": "markdown",
   "id": "dedc96c5",
   "metadata": {},
   "source": [
    "**Count the rows in the voter_df DataFrame**"
   ]
  },
  {
   "cell_type": "code",
   "execution_count": 55,
   "id": "aad2b2a0",
   "metadata": {},
   "outputs": [
    {
     "name": "stdout",
     "output_type": "stream",
     "text": [
      "rows: 113000\n"
     ]
    }
   ],
   "source": [
    "print(f\"rows: {voter_df.count()}\")"
   ]
  },
  {
   "cell_type": "markdown",
   "id": "848fab22",
   "metadata": {},
   "source": [
    "**Add a ROW_ID column using the appropriate Spark function**"
   ]
  },
  {
   "cell_type": "code",
   "execution_count": 56,
   "id": "38ba68d3",
   "metadata": {},
   "outputs": [],
   "source": [
    "voter_df = voter_df.withColumn(\"ROW_ID\", F.monotonically_increasing_id())"
   ]
  },
  {
   "cell_type": "code",
   "execution_count": 57,
   "id": "806a7c64",
   "metadata": {},
   "outputs": [
    {
     "name": "stdout",
     "output_type": "stream",
     "text": [
      "+------+-------------------+\n",
      "|ROW_ID|         VOTER_NAME|\n",
      "+------+-------------------+\n",
      "|     0|          Chad West|\n",
      "|     1|    B. Adam McGough|\n",
      "|     2|Carolyn King Arnold|\n",
      "|     3|     Jaime Resendez|\n",
      "|     4|       Omar Narvaez|\n",
      "+------+-------------------+\n",
      "only showing top 5 rows\n",
      "\n"
     ]
    }
   ],
   "source": [
    "# Ascending Order\n",
    "voter_df.orderBy(voter_df.ROW_ID).select(\"ROW_ID\", \"VOTER_NAME\").show(5)"
   ]
  },
  {
   "cell_type": "markdown",
   "id": "11347f27",
   "metadata": {},
   "source": [
    "**Show the rows with the `10` highest ROW_IDs**"
   ]
  },
  {
   "cell_type": "code",
   "execution_count": 58,
   "id": "59701b2a",
   "metadata": {},
   "outputs": [
    {
     "name": "stdout",
     "output_type": "stream",
     "text": [
      "+-----------+-------------------+\n",
      "|     ROW_ID|         VOTER_NAME|\n",
      "+-----------+-------------------+\n",
      "|25769825960|     Paula Blackmon|\n",
      "|25769825959|     Tennell Atkins|\n",
      "|25769825958|      Adam Bazaldua|\n",
      "|25769825957|       Omar Narvaez|\n",
      "|25769825956|     Jaime Resendez|\n",
      "|25769825955|Carolyn King Arnold|\n",
      "|25769825954|    Casey Thomas II|\n",
      "|25769825953|       Jesse Moreno|\n",
      "|25769825952|          Chad West|\n",
      "|25769825951|     Paula Blackmon|\n",
      "+-----------+-------------------+\n",
      "only showing top 10 rows\n",
      "\n"
     ]
    }
   ],
   "source": [
    "# Descending Order\n",
    "voter_df.orderBy(voter_df.ROW_ID.desc()).select(\"ROW_ID\", \"VOTER_NAME\").show(10)"
   ]
  },
  {
   "cell_type": "markdown",
   "id": "41a60fd7",
   "metadata": {},
   "source": [
    "You have been given the task to make sure that the IDs output from a monthly Spark task start at the highest value from the previous month.\n",
    "\n",
    "Task:\n",
    "- Determine the highest ROW_ID in voter_df_march and save it in the variable previous_max_ID. The statement .rdd.max()[0] will get the maximum ID.\n",
    "- Add a ROW_ID column to voter_df_april starting at the value of previous_max_ID.\n",
    "- Show the ROW_ID's from both Data Frames and compare."
   ]
  },
  {
   "cell_type": "code",
   "execution_count": 59,
   "id": "93f533ce",
   "metadata": {},
   "outputs": [],
   "source": [
    "# voter_df_march = voter_df.orderBy(voter_df.ROW_ID).select(\"ROW_ID\", \"VOTER_NAME\")\n",
    "# voter_df_april = voter_df.select(\"VOTER_NAME\").collect()[0:36]"
   ]
  },
  {
   "cell_type": "code",
   "execution_count": null,
   "id": "3c5be9a5",
   "metadata": {},
   "outputs": [],
   "source": []
  },
  {
   "cell_type": "code",
   "execution_count": null,
   "id": "c15d93a9",
   "metadata": {},
   "outputs": [],
   "source": []
  },
  {
   "cell_type": "code",
   "execution_count": null,
   "id": "6ab0dfc2",
   "metadata": {},
   "outputs": [],
   "source": []
  },
  {
   "cell_type": "code",
   "execution_count": null,
   "id": "35d56505",
   "metadata": {},
   "outputs": [],
   "source": []
  },
  {
   "cell_type": "code",
   "execution_count": null,
   "id": "3d1ef52f",
   "metadata": {},
   "outputs": [],
   "source": []
  }
 ],
 "metadata": {
  "kernelspec": {
   "display_name": "Python 3 (ipykernel)",
   "language": "python",
   "name": "python3"
  },
  "language_info": {
   "codemirror_mode": {
    "name": "ipython",
    "version": 3
   },
   "file_extension": ".py",
   "mimetype": "text/x-python",
   "name": "python",
   "nbconvert_exporter": "python",
   "pygments_lexer": "ipython3",
   "version": "3.8.10"
  }
 },
 "nbformat": 4,
 "nbformat_minor": 5
}
